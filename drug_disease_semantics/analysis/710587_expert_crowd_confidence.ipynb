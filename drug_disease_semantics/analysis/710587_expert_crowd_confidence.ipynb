{
 "metadata": {
  "name": "",
  "signature": "sha256:354b0fc4c471b423d6582ced29178a212468cb687aa8c0b510c194c43e2695d7"
 },
 "nbformat": 3,
 "nbformat_minor": 0,
 "worksheets": [
  {
   "cells": [
    {
     "cell_type": "heading",
     "level": 2,
     "metadata": {},
     "source": [
      "Box and whisker plot showing that crowd is more confident when experts are more confident"
     ]
    },
    {
     "cell_type": "markdown",
     "metadata": {},
     "source": [
      "2015-04-11 Toby"
     ]
    },
    {
     "cell_type": "code",
     "collapsed": false,
     "input": [
      "from itertools import islice\n",
      "import pandas as pd\n",
      "import matplotlib.pyplot as plt\n",
      "import os\n",
      "import numpy as np\n",
      "from collections import Counter\n",
      "\n",
      "%matplotlib inline\n",
      "%pylab inline"
     ],
     "language": "python",
     "metadata": {},
     "outputs": [
      {
       "output_type": "stream",
       "stream": "stdout",
       "text": [
        "Populating the interactive namespace from numpy and matplotlib\n"
       ]
      }
     ],
     "prompt_number": 1
    },
    {
     "cell_type": "code",
     "collapsed": false,
     "input": [
      "import sys\n",
      "sys.path.append(\"/home/toby/crowdsourcing/drug_disease_semantics/src/\")\n",
      "\n",
      "from filter_data import filter_data\n",
      "from true_relation_type import get_euadr_relation_type\n",
      "from broad_reltype_performance import determine_broad_reltype_results\n",
      "\n",
      "from aggregate_votes import aggregate_votes\n",
      "\n",
      "from collections import defaultdict"
     ],
     "language": "python",
     "metadata": {},
     "outputs": [],
     "prompt_number": 2
    },
    {
     "cell_type": "code",
     "collapsed": false,
     "input": [
      "settings = {\n",
      "    \"loc\": \"/home/toby/crowdsourcing/drug_disease_semantics/data\",\n",
      "    \"fname\": \"job_710587_full_with_untrusted.tsv\",\n",
      "    \"data_subset\": \"normal\",\n",
      "    \"min_accuracy\": 0.7,\n",
      "    \"max_accuracy\": 1.0,\n",
      "    \"sentence_type\": \"all\",\n",
      "    \"categories\": [[\"positive\"], [\"false\"], [\"negative\"], [\"speculative\"]]\n",
      "}\n",
      "\n",
      "raw_data = filter_data(settings)\n",
      "euadr_answer = get_euadr_relation_type(settings)"
     ],
     "language": "python",
     "metadata": {},
     "outputs": [],
     "prompt_number": 4
    },
    {
     "cell_type": "code",
     "collapsed": false,
     "input": [
      "len(raw_data)"
     ],
     "language": "python",
     "metadata": {},
     "outputs": [
      {
       "metadata": {},
       "output_type": "pyout",
       "prompt_number": 5,
       "text": [
        "600"
       ]
      }
     ],
     "prompt_number": 5
    },
    {
     "cell_type": "code",
     "collapsed": false,
     "input": [
      "Counter(euadr_answer.values())"
     ],
     "language": "python",
     "metadata": {},
     "outputs": [
      {
       "metadata": {},
       "output_type": "pyout",
       "prompt_number": 6,
       "text": [
        "Counter({'positive': 40, 'false': 16, 'speculative': 3, 'negative': 1})"
       ]
      }
     ],
     "prompt_number": 6
    },
    {
     "cell_type": "code",
     "collapsed": false,
     "input": [
      "results = determine_broad_reltype_results(euadr_answer, raw_data)"
     ],
     "language": "python",
     "metadata": {},
     "outputs": [],
     "prompt_number": 7
    },
    {
     "cell_type": "code",
     "collapsed": false,
     "input": [
      "sys.path.append(\"/home/toby/global_util/\")\n",
      "from file_util import read_file"
     ],
     "language": "python",
     "metadata": {},
     "outputs": [],
     "prompt_number": 8
    },
    {
     "cell_type": "markdown",
     "metadata": {},
     "source": [
      "Read the id conversion from Crowdflower work units to toby ids in the original published EUADR"
     ]
    },
    {
     "cell_type": "code",
     "collapsed": false,
     "input": [
      "loc = \"/home/toby/crowdsourcing\"\n",
      "\n",
      "id_mapping = dict()\n",
      "for line in read_file(\"unit_id_mapping.txt\", loc):\n",
      "    unit_id, toby_id = line.split('|')\n",
      "    \n",
      "    id_mapping[unit_id] = toby_id"
     ],
     "language": "python",
     "metadata": {},
     "outputs": [],
     "prompt_number": 9
    },
    {
     "cell_type": "markdown",
     "metadata": {},
     "source": [
      "Read the id conversion from toby ids to the raw annotation ids"
     ]
    },
    {
     "cell_type": "code",
     "collapsed": false,
     "input": [
      "raw_toby_mapping = dict()\n",
      "for line in islice(read_file(\"raw_to_toby_mapping.txt\", loc), 1, None):\n",
      "    toby_id, raw_rel_id, num_agree = line.split('|')\n",
      "    raw_toby_mapping[toby_id] = (raw_rel_id, num_agree)"
     ],
     "language": "python",
     "metadata": {},
     "outputs": [],
     "prompt_number": 10
    },
    {
     "cell_type": "code",
     "collapsed": false,
     "input": [
      "# generate data for making the boxplot\n",
      "\n",
      "group_two = []\n",
      "group_three = []\n",
      "\n",
      "for unit_id, group in results.groupby(\"unit_id\"):\n",
      "    toby_id = id_mapping[str(unit_id)]    \n",
      "    expert = raw_toby_mapping[toby_id][1]\n",
      "    \n",
      "    gold_ans = euadr_answer[unit_id]\n",
      "    \n",
      "    subset = group.query(\"broad_rel_type == '{0}'\".format(gold_ans))\n",
      "    \n",
      "    percent_agree = 0\n",
      "    if not subset.empty:\n",
      "        percent_agree = subset.iloc[0][\"percent_agreement\"] * 100\n",
      "    \n",
      "    if expert == \"2\":\n",
      "        group_two.append(percent_agree)\n",
      "    else:\n",
      "        assert expert == \"3\"\n",
      "        group_three.append(percent_agree)    "
     ],
     "language": "python",
     "metadata": {},
     "outputs": [],
     "prompt_number": 11
    },
    {
     "cell_type": "code",
     "collapsed": false,
     "input": [
      "len(group_two)"
     ],
     "language": "python",
     "metadata": {},
     "outputs": [
      {
       "metadata": {},
       "output_type": "pyout",
       "prompt_number": 12,
       "text": [
        "40"
       ]
      }
     ],
     "prompt_number": 12
    },
    {
     "cell_type": "code",
     "collapsed": false,
     "input": [
      "len(group_three)"
     ],
     "language": "python",
     "metadata": {},
     "outputs": [
      {
       "metadata": {},
       "output_type": "pyout",
       "prompt_number": 13,
       "text": [
        "20"
       ]
      }
     ],
     "prompt_number": 13
    },
    {
     "cell_type": "code",
     "collapsed": false,
     "input": [
      "group_two = pd.Series(group_two)\n",
      "group_three = pd.Series(group_three)\n",
      "\n",
      "temp = {\"Two experts agree\": group_two, \"Three experts agree\": group_three}\n",
      "boxplot_data = pd.DataFrame(temp)\n",
      "\n",
      "# flip the order of the columns around so that when plotted,\n",
      "# two of three experts comes first, not second\n",
      "boxplot_data = boxplot_data[sorted(boxplot_data.columns, reverse = True)]"
     ],
     "language": "python",
     "metadata": {},
     "outputs": [],
     "prompt_number": 14
    },
    {
     "cell_type": "code",
     "collapsed": false,
     "input": [
      "fig, axes = plt.subplots(figsize = (5, 5))\n",
      "\n",
      "axes, lines = boxplot_data.boxplot(return_type = \"both\", ax = axes)\n",
      "\n",
      "axes.set_xlabel(\"Number of experts who agreed upon the published EU-ADR answer\")\n",
      "axes.set_ylabel(\"Percent of crowd which chose\\n the published EU-ADR answer\")\n",
      "\n",
      "axes.set_title(\"Crowd agreement for the published EU-ADR answer versus\\n expert agreement on the published answer\")\n",
      "axes.set_ylim([-10, 110])"
     ],
     "language": "python",
     "metadata": {},
     "outputs": [
      {
       "metadata": {},
       "output_type": "pyout",
       "prompt_number": 15,
       "text": [
        "(-10, 110)"
       ]
      },
      {
       "metadata": {},
       "output_type": "display_data",
       "png": "[encoded data removed]",
       "text": [
        "<matplotlib.figure.Figure at 0x7fdb2b760910>"
       ]
      }
     ],
     "prompt_number": 15
    },
    {
     "cell_type": "code",
     "collapsed": false,
     "input": [],
     "language": "python",
     "metadata": {},
     "outputs": []
    }
   ],
   "metadata": {}
  }
 ]
}