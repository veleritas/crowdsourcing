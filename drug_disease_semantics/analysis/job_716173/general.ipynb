{
 "metadata": {
  "name": "",
  "signature": "sha256:28b4624989f927114026514846e2eec7c6d32cba8a6b2475303d1319251a0442"
 },
 "nbformat": 3,
 "nbformat_minor": 0,
 "worksheets": [
  {
   "cells": [
    {
     "cell_type": "heading",
     "level": 2,
     "metadata": {},
     "source": [
      "Analysis of job 716173"
     ]
    },
    {
     "cell_type": "markdown",
     "metadata": {},
     "source": [
      "2015-04-22 Tong Shu Li"
     ]
    },
    {
     "cell_type": "code",
     "collapsed": false,
     "input": [
      "import pandas as pd\n",
      "import matplotlib.pyplot as plt\n",
      "\n",
      "%matplotlib inline\n",
      "%pylab inline"
     ],
     "language": "python",
     "metadata": {},
     "outputs": [
      {
       "output_type": "stream",
       "stream": "stdout",
       "text": [
        "Populating the interactive namespace from numpy and matplotlib\n"
       ]
      }
     ],
     "prompt_number": 1
    },
    {
     "cell_type": "code",
     "collapsed": false,
     "input": [
      "import sys\n",
      "sys.path.append(\"/home/toby/crowdsourcing/drug_disease_semantics/src/\")\n",
      "from filter_data import filter_data"
     ],
     "language": "python",
     "metadata": {},
     "outputs": [],
     "prompt_number": 2
    },
    {
     "cell_type": "code",
     "collapsed": false,
     "input": [
      "settings = {\n",
      "    \"loc\": \"/home/toby/crowdsourcing/drug_disease_semantics/data/\",\n",
      "    \"fname\": \"job_716713_full_with_untrusted_and_unfinished.tsv\",\n",
      "    \"data_subset\": \"all\",\n",
      "    \"min_accuracy\": 0.0,\n",
      "    \"max_accuracy\": 1.0\n",
      "}"
     ],
     "language": "python",
     "metadata": {},
     "outputs": [],
     "prompt_number": 14
    },
    {
     "cell_type": "code",
     "collapsed": false,
     "input": [
      "raw_data = filter_data(settings)"
     ],
     "language": "python",
     "metadata": {},
     "outputs": [],
     "prompt_number": 15
    },
    {
     "cell_type": "code",
     "collapsed": false,
     "input": [
      "len(raw_data)"
     ],
     "language": "python",
     "metadata": {},
     "outputs": [
      {
       "metadata": {},
       "output_type": "pyout",
       "prompt_number": 16,
       "text": [
        "4475"
       ]
      }
     ],
     "prompt_number": 16
    },
    {
     "cell_type": "code",
     "collapsed": false,
     "input": [
      "trust = []\n",
      "judgements = []\n",
      "for val in raw_data[\"_worker_id\"].unique():\n",
      "    subset = raw_data.query(\"_worker_id == {0}\".format(val))\n",
      "    \n",
      "    assert len(subset[\"_trust\"].unique()) == 1\n",
      "    \n",
      "    trust.append(subset.iloc[0][\"_trust\"])\n",
      "    judgements.append(len(subset))"
     ],
     "language": "python",
     "metadata": {},
     "outputs": [],
     "prompt_number": 17
    },
    {
     "cell_type": "markdown",
     "metadata": {},
     "source": [
      "What was the distribution of trust scores?"
     ]
    },
    {
     "cell_type": "code",
     "collapsed": false,
     "input": [
      "pd.DataFrame(trust).hist()"
     ],
     "language": "python",
     "metadata": {},
     "outputs": [
      {
       "metadata": {},
       "output_type": "pyout",
       "prompt_number": 18,
       "text": [
        "array([[<matplotlib.axes._subplots.AxesSubplot object at 0x7f773177bf90>]], dtype=object)"
       ]
      },
      {
       "metadata": {},
       "output_type": "display_data",
       "png": "[encoded data removed]",
       "text": [
        "<matplotlib.figure.Figure at 0x7f77316dd550>"
       ]
      }
     ],
     "prompt_number": 18
    },
    {
     "cell_type": "markdown",
     "metadata": {},
     "source": [
      "Judgements made per contributor"
     ]
    },
    {
     "cell_type": "code",
     "collapsed": false,
     "input": [
      "pd.DataFrame(sorted(judgements, reverse = True)).plot()"
     ],
     "language": "python",
     "metadata": {},
     "outputs": [
      {
       "metadata": {},
       "output_type": "pyout",
       "prompt_number": 8,
       "text": [
        "<matplotlib.axes._subplots.AxesSubplot at 0x7f773195a7d0>"
       ]
      },
      {
       "metadata": {},
       "output_type": "display_data",
       "png": "[encoded data removed]",
       "text": [
        "<matplotlib.figure.Figure at 0x7f7731964c10>"
       ]
      }
     ],
     "prompt_number": 8
    }
   ],
   "metadata": {}
  }
 ]
}