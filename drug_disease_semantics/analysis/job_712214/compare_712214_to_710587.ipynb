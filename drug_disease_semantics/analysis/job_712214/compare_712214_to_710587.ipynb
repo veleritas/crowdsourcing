{
 "metadata": {
  "name": "",
  "signature": "sha256:f4d1d1ad9efd0b30a7a02be91b15dfc6b1a57dc4055b193af54757078218b5f4"
 },
 "nbformat": 3,
 "nbformat_minor": 0,
 "worksheets": [
  {
   "cells": [
    {
     "cell_type": "heading",
     "level": 2,
     "metadata": {},
     "source": [
      "Compare the results of job 712214 with that of job 710587. Compare based on published EU-ADR id"
     ]
    },
    {
     "cell_type": "markdown",
     "metadata": {},
     "source": [
      "2015-04-16 Tong Shu Li"
     ]
    },
    {
     "cell_type": "code",
     "collapsed": false,
     "input": [
      "import pandas as pd\n",
      "import matplotlib.pyplot as plt\n",
      "\n",
      "%matplotlib inline\n",
      "%pylab inline"
     ],
     "language": "python",
     "metadata": {},
     "outputs": [
      {
       "output_type": "stream",
       "stream": "stdout",
       "text": [
        "Populating the interactive namespace from numpy and matplotlib\n"
       ]
      }
     ],
     "prompt_number": 1
    },
    {
     "cell_type": "code",
     "collapsed": false,
     "input": [
      "import sys\n",
      "sys.path.append(\"/home/toby/crowdsourcing/drug_disease_semantics/src\")\n",
      "\n",
      "from filter_data import filter_data\n",
      "from true_relation_type import get_euadr_relation_type\n",
      "from aggregate_votes import aggregate_votes\n",
      "from aggregate_results import aggregate_results\n",
      "from aggregate_results import create_match\n",
      "\n",
      "from summary import broad_reltype_summary\n",
      "from get_orig_problem import get_orig_problem"
     ],
     "language": "python",
     "metadata": {},
     "outputs": [],
     "prompt_number": 2
    },
    {
     "cell_type": "code",
     "collapsed": false,
     "input": [
      "settings = {\n",
      "    \"loc\": \"/home/toby/crowdsourcing/drug_disease_semantics/data\",\n",
      "    \"fname\": \"job_712214_full_with_untrusted_and_unfinished_id.tsv\",\n",
      "    \"data_subset\": \"normal\",\n",
      "    \"min_accuracy\": 0.7,\n",
      "    \"max_accuracy\": 1.0,\n",
      "    \"id_column\": \"pub_rel_id\"\n",
      "}\n",
      "\n",
      "raw_data_712214 = filter_data(settings)\n",
      "\n",
      "euadr_answer = get_euadr_relation_type(settings)"
     ],
     "language": "python",
     "metadata": {},
     "outputs": [],
     "prompt_number": 3
    },
    {
     "cell_type": "code",
     "collapsed": false,
     "input": [
      "settings = {\n",
      "    \"loc\": \"/home/toby/crowdsourcing/drug_disease_semantics/data\",\n",
      "    \"fname\": \"job_710587_full_with_untrusted_id.tsv\",\n",
      "    \"data_subset\": \"normal\",\n",
      "    \"min_accuracy\": 0.7,\n",
      "    \"max_accuracy\": 1.0,\n",
      "    \"id_column\": \"pub_rel_id\"\n",
      "}\n",
      "\n",
      "raw_data_710587 = filter_data(settings)\n",
      "raw_data_710587 = raw_data_710587.query(\"_unit_id != 698758009\")"
     ],
     "language": "python",
     "metadata": {},
     "outputs": [],
     "prompt_number": 4
    },
    {
     "cell_type": "code",
     "collapsed": false,
     "input": [
      "orig_prob = get_orig_problem(\"pub_rel_id\", raw_data_710587)"
     ],
     "language": "python",
     "metadata": {},
     "outputs": [],
     "prompt_number": 5
    },
    {
     "cell_type": "code",
     "collapsed": false,
     "input": [
      "match_obj = create_match(euadr_answer)"
     ],
     "language": "python",
     "metadata": {},
     "outputs": [],
     "prompt_number": 6
    },
    {
     "cell_type": "code",
     "collapsed": false,
     "input": [
      "results_710587 = aggregate_results(\"pub_rel_id\", \"broad_rel_type\", raw_data_710587, match_obj)"
     ],
     "language": "python",
     "metadata": {},
     "outputs": [],
     "prompt_number": 7
    },
    {
     "cell_type": "code",
     "collapsed": false,
     "input": [
      "results_712214 = aggregate_results(\"pub_rel_id\", \"sentence_claim\", raw_data_712214, match_obj)"
     ],
     "language": "python",
     "metadata": {},
     "outputs": [],
     "prompt_number": 8
    },
    {
     "cell_type": "markdown",
     "metadata": {},
     "source": [
      "Now that we have the aggregated results for each job, let's see how the crowd did on each sentence:"
     ]
    },
    {
     "cell_type": "markdown",
     "metadata": {},
     "source": [
      "Deep semantics for both jobs:"
     ]
    },
    {
     "cell_type": "code",
     "collapsed": false,
     "input": [
      "def get_crowd_deep_sem(crowd_broad, broad_column, deep_column, raw_data):\n",
      "    temp = []\n",
      "    for identifier, top_broad in crowd_broad.items():\n",
      "        if top_broad in [\"positive\", \"speculative\", \"definite_relation\", \"uncertain_relation\",\n",
      "                         \"inferred_relation\"]:\n",
      "            \n",
      "            subset = raw_data.query(\"pub_rel_id == '{0}'\".format(identifier))\n",
      "            \n",
      "            subset = subset.query(\"{0} == '{1}'\".format(broad_column, top_broad))\n",
      "            \n",
      "            res = aggregate_votes(deep_column, subset)\n",
      "            \n",
      "            res.insert(0, \"pub_rel_id\", identifier)\n",
      "            \n",
      "            res = res.sort([\"conf_score\"], ascending = False)\n",
      "            \n",
      "            temp.append(res)\n",
      "            \n",
      "    return pd.concat(temp)"
     ],
     "language": "python",
     "metadata": {},
     "outputs": [],
     "prompt_number": 9
    },
    {
     "cell_type": "code",
     "collapsed": false,
     "input": [
      "crowd_broad_710587 = dict()\n",
      "for identifier, group in results_710587.groupby(\"pub_rel_id\"):\n",
      "    crowd_broad_710587[identifier] = group.iloc[0][\"broad_rel_type\"]"
     ],
     "language": "python",
     "metadata": {},
     "outputs": [],
     "prompt_number": 10
    },
    {
     "cell_type": "code",
     "collapsed": false,
     "input": [
      "crowd_broad_712214 = dict()\n",
      "for identifier, group in results_712214.groupby(\"pub_rel_id\"):\n",
      "    crowd_broad_712214[identifier] = group.iloc[0][\"sentence_claim\"]"
     ],
     "language": "python",
     "metadata": {},
     "outputs": [],
     "prompt_number": 11
    },
    {
     "cell_type": "code",
     "collapsed": false,
     "input": [
      "crowd_deep_710587 = get_crowd_deep_sem(crowd_broad_710587, \"broad_rel_type\", \"deep_semantics\", raw_data_710587)"
     ],
     "language": "python",
     "metadata": {},
     "outputs": [],
     "prompt_number": 12
    },
    {
     "cell_type": "code",
     "collapsed": false,
     "input": [
      "raw_data_712214.rename(columns = {\"form_object_and_form_subject_are_related_because\": \"deep_sem\"}, inplace = True)"
     ],
     "language": "python",
     "metadata": {},
     "outputs": [],
     "prompt_number": 13
    },
    {
     "cell_type": "code",
     "collapsed": false,
     "input": [
      "crowd_deep_712214 = get_crowd_deep_sem(crowd_broad_712214, \"sentence_claim\", \"deep_sem\", raw_data_712214)"
     ],
     "language": "python",
     "metadata": {},
     "outputs": [],
     "prompt_number": 14
    },
    {
     "cell_type": "markdown",
     "metadata": {},
     "source": [
      "How many sentences did the crowd choose the same thing between both jobs?"
     ]
    },
    {
     "cell_type": "code",
     "collapsed": false,
     "input": [
      "mapping = {\n",
      "    \"definite_relation\": \"positive\",\n",
      "    \"uncertain_relation\": \"speculative\",\n",
      "    \"inferred_relation\": \"false\",\n",
      "    \"no_relation\": \"negative\",\n",
      "    \"is_cooccurrence\": \"false\"\n",
      "}"
     ],
     "language": "python",
     "metadata": {},
     "outputs": [],
     "prompt_number": 15
    },
    {
     "cell_type": "code",
     "collapsed": false,
     "input": [
      "deep_map = {\n",
      "    \"used_to_treat\": \"improves_or_treats\",\n",
      "    \"may_cause\": \"worsens_or_causes\",\n",
      "    \"no_further_info\": \"other\",\n",
      "    \"other\": \"other\"\n",
      "}"
     ],
     "language": "python",
     "metadata": {},
     "outputs": []
    },
    {
     "cell_type": "code",
     "collapsed": false,
     "input": [
      "matches = []\n",
      "mismatches = []\n",
      "\n",
      "deep_match = []\n",
      "deep_mismatch = []\n",
      "for identifier in euadr_answer.keys():\n",
      "    top_710587 = results_710587.query(\"pub_rel_id == '{0}'\".format(identifier)).iloc[0][\"broad_rel_type\"]\n",
      "    top_712214 = results_712214.query(\"pub_rel_id == '{0}'\".format(identifier)).iloc[0][\"sentence_claim\"]\n",
      "    \n",
      "    if top_710587 == mapping[top_712214]:\n",
      "        matches.append(identifier)\n",
      "        \n",
      "        if top_710587 in [\"positive\", \"speculative\"]:\n",
      "            deep_710587 = crowd_deep_710587.query(\"pub_rel_id == '{0}'\".format(identifier)).iloc[0][\"deep_semantics\"]\n",
      "            deep_712214 = crowd_deep_712214.query(\"pub_rel_id == '{0}'\".format(identifier)).iloc[0][\"deep_sem\"]\n",
      "\n",
      "            if deep_map[deep_710587] == deep_712214:\n",
      "                deep_match.append(identifier)\n",
      "            else:\n",
      "                deep_match.append(identifier)\n",
      "    else:\n",
      "        mismatches.append(identifier)"
     ],
     "language": "python",
     "metadata": {},
     "outputs": []
    },
    {
     "cell_type": "code",
     "collapsed": false,
     "input": [
      "len(matches)"
     ],
     "language": "python",
     "metadata": {},
     "outputs": []
    },
    {
     "cell_type": "code",
     "collapsed": false,
     "input": [
      "mismatches"
     ],
     "language": "python",
     "metadata": {},
     "outputs": []
    },
    {
     "cell_type": "code",
     "collapsed": false,
     "input": [
      "len(mismatches)"
     ],
     "language": "python",
     "metadata": {},
     "outputs": []
    },
    {
     "cell_type": "code",
     "collapsed": false,
     "input": [
      "len(deep_match)"
     ],
     "language": "python",
     "metadata": {},
     "outputs": []
    },
    {
     "cell_type": "code",
     "collapsed": false,
     "input": [
      "len(deep_mismatch)"
     ],
     "language": "python",
     "metadata": {},
     "outputs": []
    },
    {
     "cell_type": "code",
     "collapsed": false,
     "input": [
      "def summary(work_units):\n",
      "    for identifier in work_units:\n",
      "        subset_710587 = results_710587.query(\"pub_rel_id == '{0}'\".format(identifier))\n",
      "        subset_712214 = results_712214.query(\"pub_rel_id == '{0}'\".format(identifier))\n",
      "\n",
      "        deep_710587 = crowd_deep_710587.query(\"pub_rel_id == '{0}'\".format(identifier))\n",
      "        deep_712214 = crowd_deep_712214.query(\"pub_rel_id == '{0}'\".format(identifier))\n",
      "\n",
      "        print \"EUADR:\", euadr_answer[identifier]\n",
      "        print\n",
      "        print orig_prob[identifier][3]\n",
      "        print\n",
      "        print \"Job 710587:\"\n",
      "        print subset_710587\n",
      "        print\n",
      "        print \"Job 712214:\"\n",
      "        print subset_712214\n",
      "        print\n",
      "\n",
      "        print \"----------------------------- Deep semantics --------------------------\"\n",
      "\n",
      "        if not deep_710587.empty:\n",
      "            print \"Job 710587:\"\n",
      "            print deep_710587\n",
      "            print\n",
      "\n",
      "        if not deep_712214.empty:\n",
      "            print \"Job 712214\"\n",
      "            print\n",
      "            print deep_712214\n",
      "        print \n",
      "        print \"========================================================\""
     ],
     "language": "python",
     "metadata": {},
     "outputs": []
    },
    {
     "cell_type": "code",
     "collapsed": false,
     "input": [
      "summary(mismatches)"
     ],
     "language": "python",
     "metadata": {},
     "outputs": []
    },
    {
     "cell_type": "code",
     "collapsed": false,
     "input": [],
     "language": "python",
     "metadata": {},
     "outputs": []
    }
   ],
   "metadata": {}
  }
 ]
}