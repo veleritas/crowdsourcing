{
 "metadata": {
  "name": "",
  "signature": "sha256:6cce89e1d744d0edff5440b9e8d1b6647d52399aec366671cd63fd1e21497990"
 },
 "nbformat": 3,
 "nbformat_minor": 0,
 "worksheets": [
  {
   "cells": [
    {
     "cell_type": "heading",
     "level": 2,
     "metadata": {},
     "source": [
      "Compare the results of job 712214 with that of job 710587. Compare based on published EU-ADR id"
     ]
    },
    {
     "cell_type": "markdown",
     "metadata": {},
     "source": [
      "2015-04-16 Tong Shu Li"
     ]
    },
    {
     "cell_type": "markdown",
     "metadata": {},
     "source": [
      "How did the crowd do when we changed the instructions and answer choices? Did it help them understand the sentences, or have no real impact?"
     ]
    },
    {
     "cell_type": "code",
     "collapsed": false,
     "input": [
      "from collections import defaultdict\n",
      "import pandas as pd\n",
      "import matplotlib.pyplot as plt\n",
      "\n",
      "%matplotlib inline\n",
      "%pylab inline"
     ],
     "language": "python",
     "metadata": {},
     "outputs": [
      {
       "output_type": "stream",
       "stream": "stdout",
       "text": [
        "Populating the interactive namespace from numpy and matplotlib\n"
       ]
      }
     ],
     "prompt_number": 1
    },
    {
     "cell_type": "code",
     "collapsed": false,
     "input": [
      "import sys\n",
      "sys.path.append(\"/home/toby/crowdsourcing/drug_disease_semantics/src\")\n",
      "\n",
      "from filter_data import filter_data\n",
      "from true_relation_type import get_euadr_relation_type\n",
      "from aggregate_votes import aggregate_votes\n",
      "from aggregate_results import aggregate_results\n",
      "from aggregate_results import create_match\n",
      "\n",
      "from summary import broad_reltype_summary\n",
      "from get_orig_problem import get_orig_problem"
     ],
     "language": "python",
     "metadata": {},
     "outputs": [],
     "prompt_number": 2
    },
    {
     "cell_type": "code",
     "collapsed": false,
     "input": [
      "settings = {\n",
      "    \"loc\": \"/home/toby/crowdsourcing/drug_disease_semantics/data\",\n",
      "    \"fname\": \"job_712214_full_with_untrusted_and_unfinished_id.tsv\",\n",
      "    \"data_subset\": \"normal\",\n",
      "    \"min_accuracy\": 0.7,\n",
      "    \"max_accuracy\": 1.0,\n",
      "    \"id_column\": \"pub_rel_id\"\n",
      "}\n",
      "\n",
      "raw_data_712214 = filter_data(settings)\n",
      "\n",
      "euadr_answer = get_euadr_relation_type(settings)"
     ],
     "language": "python",
     "metadata": {},
     "outputs": [],
     "prompt_number": 3
    },
    {
     "cell_type": "code",
     "collapsed": false,
     "input": [
      "settings = {\n",
      "    \"loc\": \"/home/toby/crowdsourcing/drug_disease_semantics/data\",\n",
      "    \"fname\": \"job_710587_full_with_untrusted_id.tsv\",\n",
      "    \"data_subset\": \"normal\",\n",
      "    \"min_accuracy\": 0.7,\n",
      "    \"max_accuracy\": 1.0,\n",
      "    \"id_column\": \"pub_rel_id\"\n",
      "}\n",
      "\n",
      "raw_data_710587 = filter_data(settings)\n",
      "raw_data_710587 = raw_data_710587.query(\"_unit_id != 698758009\")"
     ],
     "language": "python",
     "metadata": {},
     "outputs": [],
     "prompt_number": 4
    },
    {
     "cell_type": "code",
     "collapsed": false,
     "input": [
      "orig_prob = get_orig_problem(\"pub_rel_id\", raw_data_710587)"
     ],
     "language": "python",
     "metadata": {},
     "outputs": [],
     "prompt_number": 5
    },
    {
     "cell_type": "code",
     "collapsed": false,
     "input": [
      "match_obj = create_match(euadr_answer)"
     ],
     "language": "python",
     "metadata": {},
     "outputs": [],
     "prompt_number": 6
    },
    {
     "cell_type": "code",
     "collapsed": false,
     "input": [
      "results_710587 = aggregate_results(\"pub_rel_id\", \"broad_rel_type\", raw_data_710587, match_obj)"
     ],
     "language": "python",
     "metadata": {},
     "outputs": [],
     "prompt_number": 7
    },
    {
     "cell_type": "code",
     "collapsed": false,
     "input": [
      "results_712214 = aggregate_results(\"pub_rel_id\", \"sentence_claim\", raw_data_712214, match_obj)"
     ],
     "language": "python",
     "metadata": {},
     "outputs": [],
     "prompt_number": 8
    },
    {
     "cell_type": "markdown",
     "metadata": {},
     "source": [
      "Now that we have the aggregated results for each job, let's see how the crowd did on each sentence:"
     ]
    },
    {
     "cell_type": "markdown",
     "metadata": {},
     "source": [
      "Deep semantics for both jobs:"
     ]
    },
    {
     "cell_type": "code",
     "collapsed": false,
     "input": [
      "def get_crowd_deep_sem(crowd_broad, broad_column, deep_column, raw_data):\n",
      "    temp = []\n",
      "    for identifier, top_broad in crowd_broad.items():\n",
      "        if top_broad in [\"positive\", \"speculative\", \"definite_relation\", \"uncertain_relation\",\n",
      "                         \"inferred_relation\"]:\n",
      "            \n",
      "            subset = raw_data.query(\"pub_rel_id == '{0}'\".format(identifier))\n",
      "            \n",
      "            subset = subset.query(\"{0} == '{1}'\".format(broad_column, top_broad))\n",
      "            \n",
      "            res = aggregate_votes(deep_column, subset)\n",
      "            \n",
      "            res.insert(0, \"pub_rel_id\", identifier)\n",
      "            \n",
      "            res = res.sort([\"conf_score\"], ascending = False)\n",
      "            \n",
      "            temp.append(res)\n",
      "            \n",
      "    return pd.concat(temp)"
     ],
     "language": "python",
     "metadata": {},
     "outputs": [],
     "prompt_number": 9
    },
    {
     "cell_type": "code",
     "collapsed": false,
     "input": [
      "crowd_broad_710587 = dict()\n",
      "for identifier, group in results_710587.groupby(\"pub_rel_id\"):\n",
      "    crowd_broad_710587[identifier] = group.iloc[0][\"broad_rel_type\"]"
     ],
     "language": "python",
     "metadata": {},
     "outputs": [],
     "prompt_number": 10
    },
    {
     "cell_type": "code",
     "collapsed": false,
     "input": [
      "crowd_broad_712214 = dict()\n",
      "for identifier, group in results_712214.groupby(\"pub_rel_id\"):\n",
      "    crowd_broad_712214[identifier] = group.iloc[0][\"sentence_claim\"]"
     ],
     "language": "python",
     "metadata": {},
     "outputs": [],
     "prompt_number": 11
    },
    {
     "cell_type": "code",
     "collapsed": false,
     "input": [
      "crowd_deep_710587 = get_crowd_deep_sem(crowd_broad_710587, \"broad_rel_type\", \"deep_semantics\", raw_data_710587)"
     ],
     "language": "python",
     "metadata": {},
     "outputs": [],
     "prompt_number": 12
    },
    {
     "cell_type": "code",
     "collapsed": false,
     "input": [
      "raw_data_712214.rename(columns = {\"form_object_and_form_subject_are_related_because\": \"deep_sem\"}, inplace = True)"
     ],
     "language": "python",
     "metadata": {},
     "outputs": [],
     "prompt_number": 13
    },
    {
     "cell_type": "code",
     "collapsed": false,
     "input": [
      "crowd_deep_712214 = get_crowd_deep_sem(crowd_broad_712214, \"sentence_claim\", \"deep_sem\", raw_data_712214)"
     ],
     "language": "python",
     "metadata": {},
     "outputs": [],
     "prompt_number": 14
    },
    {
     "cell_type": "markdown",
     "metadata": {},
     "source": [
      "How many sentences did the crowd choose the same thing between both jobs?"
     ]
    },
    {
     "cell_type": "code",
     "collapsed": false,
     "input": [
      "mapping = {\n",
      "    \"definite_relation\": \"positive\",\n",
      "    \"uncertain_relation\": \"speculative\",\n",
      "    \"inferred_relation\": \"false\",\n",
      "    \"no_relation\": \"negative\",\n",
      "    \"is_cooccurrence\": \"false\"\n",
      "}"
     ],
     "language": "python",
     "metadata": {},
     "outputs": [],
     "prompt_number": 15
    },
    {
     "cell_type": "code",
     "collapsed": false,
     "input": [
      "deep_map = {\n",
      "    \"used_to_treat\": \"improves_or_treats\",\n",
      "    \"may_cause\": \"worsens_or_causes\",\n",
      "    \"no_further_info\": \"other\",\n",
      "    \"other\": \"other\"\n",
      "}"
     ],
     "language": "python",
     "metadata": {},
     "outputs": [],
     "prompt_number": 16
    },
    {
     "cell_type": "code",
     "collapsed": false,
     "input": [
      "matches = []\n",
      "mismatches = []\n",
      "\n",
      "deep_match = []\n",
      "deep_mismatch = []\n",
      "for identifier in euadr_answer.keys():\n",
      "    top_710587 = results_710587.query(\"pub_rel_id == '{0}'\".format(identifier)).iloc[0][\"broad_rel_type\"]\n",
      "    top_712214 = results_712214.query(\"pub_rel_id == '{0}'\".format(identifier)).iloc[0][\"sentence_claim\"]\n",
      "    \n",
      "    if top_710587 == mapping[top_712214]:\n",
      "        matches.append(identifier)\n",
      "        \n",
      "        if top_710587 in [\"positive\", \"speculative\"]:\n",
      "            deep_710587 = crowd_deep_710587.query(\"pub_rel_id == '{0}'\".format(identifier)).iloc[0][\"deep_semantics\"]\n",
      "            deep_712214 = crowd_deep_712214.query(\"pub_rel_id == '{0}'\".format(identifier)).iloc[0][\"deep_sem\"]\n",
      "\n",
      "            if deep_map[deep_710587] == deep_712214:\n",
      "                deep_match.append(identifier)\n",
      "            else:\n",
      "                deep_match.append(identifier)\n",
      "    else:\n",
      "        mismatches.append(identifier)"
     ],
     "language": "python",
     "metadata": {},
     "outputs": [],
     "prompt_number": 17
    },
    {
     "cell_type": "heading",
     "level": 3,
     "metadata": {},
     "source": [
      "How did the two crowds agree with one another between these two jobs?"
     ]
    },
    {
     "cell_type": "code",
     "collapsed": false,
     "input": [
      "len(matches)"
     ],
     "language": "python",
     "metadata": {},
     "outputs": [
      {
       "metadata": {},
       "output_type": "pyout",
       "prompt_number": 18,
       "text": [
        "49"
       ]
      }
     ],
     "prompt_number": 18
    },
    {
     "cell_type": "code",
     "collapsed": false,
     "input": [
      "len(mismatches)"
     ],
     "language": "python",
     "metadata": {},
     "outputs": [
      {
       "metadata": {},
       "output_type": "pyout",
       "prompt_number": 19,
       "text": [
        "11"
       ]
      }
     ],
     "prompt_number": 19
    },
    {
     "cell_type": "heading",
     "level": 3,
     "metadata": {},
     "source": [
      "Were the deep semantic choices the same?"
     ]
    },
    {
     "cell_type": "code",
     "collapsed": false,
     "input": [
      "len(deep_match)"
     ],
     "language": "python",
     "metadata": {},
     "outputs": [
      {
       "metadata": {},
       "output_type": "pyout",
       "prompt_number": 20,
       "text": [
        "42"
       ]
      }
     ],
     "prompt_number": 20
    },
    {
     "cell_type": "code",
     "collapsed": false,
     "input": [
      "len(deep_mismatch)"
     ],
     "language": "python",
     "metadata": {},
     "outputs": [
      {
       "metadata": {},
       "output_type": "pyout",
       "prompt_number": 21,
       "text": [
        "0"
       ]
      }
     ],
     "prompt_number": 21
    },
    {
     "cell_type": "markdown",
     "metadata": {},
     "source": [
      "Raw deep semantic votes:"
     ]
    },
    {
     "cell_type": "code",
     "collapsed": false,
     "input": [
      "deep_votes_710587 = defaultdict(int)\n",
      "deep_votes_712214 = defaultdict(int)\n",
      "\n",
      "for identifier in deep_match:\n",
      "    deep_710587 = crowd_deep_710587.query(\"pub_rel_id == '{0}'\".format(identifier))\n",
      "    deep_712214 = crowd_deep_712214.query(\"pub_rel_id == '{0}'\".format(identifier))\n",
      "    \n",
      "    for index, row in deep_710587.iterrows():\n",
      "        deep_votes_710587[row[\"deep_semantics\"]] += row[\"num_votes\"]\n",
      "        \n",
      "    for index, row in deep_712214.iterrows():\n",
      "        deep_votes_712214[row[\"deep_sem\"]] += row[\"num_votes\"]\n",
      "        \n",
      "        \n",
      "\n",
      "print deep_votes_710587\n",
      "\n",
      "print deep_votes_712214\n",
      "    "
     ],
     "language": "python",
     "metadata": {},
     "outputs": [
      {
       "output_type": "stream",
       "stream": "stdout",
       "text": [
        "defaultdict(<type 'int'>, {'used_to_treat': 184, 'may_cause': 131, 'other': 4, 'no_further_info': 27})\n",
        "defaultdict(<type 'int'>, {'improves_or_treats': 83, 'worsens_or_causes': 66, 'other': 4})\n"
       ]
      }
     ],
     "prompt_number": 22
    },
    {
     "cell_type": "markdown",
     "metadata": {},
     "source": [
      "Was \"other\" ever a top deep semantic choice?"
     ]
    },
    {
     "cell_type": "code",
     "collapsed": false,
     "input": [
      "choice_710587 = defaultdict(int)\n",
      "choice_712214 = defaultdict(int)\n",
      "\n",
      "for identifier in deep_match:\n",
      "    deep_710587 = crowd_deep_710587.query(\"pub_rel_id == '{0}'\".format(identifier))\n",
      "    deep_712214 = crowd_deep_712214.query(\"pub_rel_id == '{0}'\".format(identifier))\n",
      "    \n",
      "    if deep_710587.iloc[0][\"deep_semantics\"] == \"no_further_info\":\n",
      "        print identifier\n",
      "    \n",
      "    choice_710587[deep_710587.iloc[0][\"deep_semantics\"]] += 1\n",
      "    choice_712214[deep_712214.iloc[0][\"deep_sem\"]] += 1\n",
      "\n",
      "print choice_710587\n",
      "\n",
      "print choice_712214\n",
      "    "
     ],
     "language": "python",
     "metadata": {},
     "outputs": [
      {
       "output_type": "stream",
       "stream": "stdout",
       "text": [
        "drug_disease_83\n",
        "defaultdict(<type 'int'>, {'used_to_treat': 24, 'may_cause': 17, 'no_further_info': 1})\n",
        "defaultdict(<type 'int'>, {'improves_or_treats': 23, 'worsens_or_causes': 19})\n"
       ]
      }
     ],
     "prompt_number": 23
    },
    {
     "cell_type": "markdown",
     "metadata": {},
     "source": [
      "Looks like the crowd always chooses treats or causes as the top deep semantic choice. The one time they chose \"no further info\" was due to the faulty test question saying that it was \"no extra info\". When we look at the quiz results, we see that everyone chooses \"causes\", as in accordance with the second job."
     ]
    },
    {
     "cell_type": "markdown",
     "metadata": {},
     "source": [
      "Therefore a single \"none of the above\" is enough for the deep semantics."
     ]
    },
    {
     "cell_type": "markdown",
     "metadata": {},
     "source": [
      "The crowd chose the same deep semantic choices between the two jobs."
     ]
    },
    {
     "cell_type": "code",
     "collapsed": false,
     "input": [
      "def summary(work_units):\n",
      "    for identifier in work_units:\n",
      "        subset_710587 = results_710587.query(\"pub_rel_id == '{0}'\".format(identifier))\n",
      "        subset_712214 = results_712214.query(\"pub_rel_id == '{0}'\".format(identifier))\n",
      "\n",
      "        deep_710587 = crowd_deep_710587.query(\"pub_rel_id == '{0}'\".format(identifier))\n",
      "        deep_712214 = crowd_deep_712214.query(\"pub_rel_id == '{0}'\".format(identifier))\n",
      "\n",
      "        print \"EUADR:\", euadr_answer[identifier]\n",
      "        print\n",
      "        print orig_prob[identifier][3]\n",
      "        print\n",
      "        print \"Job 710587:\"\n",
      "        print subset_710587\n",
      "        print\n",
      "        print \"Job 712214:\"\n",
      "        print subset_712214\n",
      "        print\n",
      "\n",
      "        print \"----------------------------- Deep semantics --------------------------\"\n",
      "\n",
      "        if not deep_710587.empty:\n",
      "            print \"Job 710587:\"\n",
      "            print deep_710587\n",
      "            print\n",
      "\n",
      "        if not deep_712214.empty:\n",
      "            print \"Job 712214\"\n",
      "            print\n",
      "            print deep_712214\n",
      "        print \n",
      "        print \"========================================================\""
     ],
     "language": "python",
     "metadata": {},
     "outputs": [],
     "prompt_number": 24
    },
    {
     "cell_type": "code",
     "collapsed": false,
     "input": [
      "summary([\"drug_disease_83\"])"
     ],
     "language": "python",
     "metadata": {},
     "outputs": [
      {
       "output_type": "stream",
       "stream": "stdout",
       "text": [
        "EUADR: positive\n",
        "\n",
        "[[Cocaine]] abuse is associated with [[cerebrovascular events]]; spinal cord effects are rarely reported.\n",
        "\n",
        "Job 710587:\n",
        "        pub_rel_id broad_rel_type  conf_score  num_votes  percent_agree  match\n",
        "1  drug_disease_83       positive      8.0537          9       0.904534      1\n",
        "0  drug_disease_83          false      0.8500          1       0.095466      0\n",
        "\n",
        "Job 712214:\n",
        "        pub_rel_id     sentence_claim  conf_score  num_votes  percent_agree  \\\n",
        "0  drug_disease_83  definite_relation      2.9231          3       0.766815   \n",
        "1  drug_disease_83        no_relation      0.8889          1       0.233185   \n",
        "\n",
        "   match  \n",
        "0      1  \n",
        "1      0  \n",
        "\n",
        "----------------------------- Deep semantics --------------------------\n",
        "Job 710587:\n",
        "        pub_rel_id   deep_semantics  conf_score  num_votes\n",
        "1  drug_disease_83  no_further_info      6.4764          7\n",
        "0  drug_disease_83        may_cause      1.5773          2\n",
        "\n",
        "Job 712214\n",
        "\n",
        "        pub_rel_id           deep_sem  conf_score  num_votes\n",
        "0  drug_disease_83  worsens_or_causes      2.9231          3\n",
        "\n",
        "========================================================\n"
       ]
      }
     ],
     "prompt_number": 25
    },
    {
     "cell_type": "code",
     "collapsed": false,
     "input": [
      "summary(mismatches)"
     ],
     "language": "python",
     "metadata": {},
     "outputs": [
      {
       "output_type": "stream",
       "stream": "stdout",
       "text": [
        "EUADR: positive\n",
        "\n",
        "Selective cytotoxicity of [[indomethacin]] and [[indomethacin]] ethyl ester-loaded nanocapsules against [[glioma]] cell lines: an in vitro study.\n",
        "\n",
        "Job 710587:\n",
        "        pub_rel_id broad_rel_type  conf_score  num_votes  percent_agree  match\n",
        "2  drug_disease_33    speculative      4.4782          5       0.519802      0\n",
        "1  drug_disease_33       positive      2.5013          3       0.290336      1\n",
        "0  drug_disease_33          false      1.6357          2       0.189862      0\n",
        "\n",
        "Job 712214:\n",
        "        pub_rel_id      sentence_claim  conf_score  num_votes  percent_agree  \\\n",
        "0  drug_disease_33   definite_relation      3.4091          4       0.434076   \n",
        "2  drug_disease_33  uncertain_relation      2.5984          3       0.330850   \n",
        "1  drug_disease_33   inferred_relation      1.8462          2       0.235074   \n",
        "\n",
        "   match  \n",
        "0      1  \n",
        "2      0  \n",
        "1      0  \n",
        "\n",
        "----------------------------- Deep semantics --------------------------\n",
        "Job 710587:\n",
        "        pub_rel_id   deep_semantics  conf_score  num_votes\n",
        "1  drug_disease_33    used_to_treat      3.6282          4\n",
        "0  drug_disease_33  no_further_info      0.8500          1\n",
        "\n",
        "Job 712214\n",
        "\n",
        "        pub_rel_id            deep_sem  conf_score  num_votes\n",
        "0  drug_disease_33  improves_or_treats      2.4805          3\n",
        "1  drug_disease_33   worsens_or_causes      0.9286          1\n",
        "\n",
        "========================================================\n",
        "EUADR: positive\n",
        "\n",
        "During the induction phase, tacrolimus or [[cyclosporine]], mycophenolate mofetil, and methylprednisolone were used for [[immunosuppression]].\n",
        "\n",
        "Job 710587:\n",
        "         pub_rel_id broad_rel_type  conf_score  num_votes  percent_agree  \\\n",
        "0  drug_disease_187       positive      8.5317         10              1   \n",
        "\n",
        "   match  \n",
        "0      1  \n",
        "\n",
        "Job 712214:\n",
        "         pub_rel_id      sentence_claim  conf_score  num_votes  percent_agree  \\\n",
        "1  drug_disease_187  uncertain_relation      2.8120          3       0.794507   \n",
        "0  drug_disease_187   definite_relation      0.7273          1       0.205493   \n",
        "\n",
        "   match  \n",
        "1      0  \n",
        "0      1  \n",
        "\n",
        "----------------------------- Deep semantics --------------------------\n",
        "Job 710587:\n",
        "         pub_rel_id deep_semantics  conf_score  num_votes\n",
        "1  drug_disease_187  used_to_treat      5.9069          7\n",
        "0  drug_disease_187      may_cause      2.6248          3\n",
        "\n",
        "Job 712214\n",
        "\n",
        "         pub_rel_id            deep_sem  conf_score  num_votes\n",
        "0  drug_disease_187  improves_or_treats      1.9231          2\n",
        "1  drug_disease_187   worsens_or_causes      0.8889          1\n",
        "\n",
        "========================================================\n",
        "EUADR: false\n",
        "\n",
        "Maternal use of [[BZD]] and/or HBRA may increase the risk for [[preterm birth]] and low birth weight and cause neonatal symptoms, but does not appear to have a strong teratogenic potential.\n",
        "\n",
        "Job 710587:\n",
        "         pub_rel_id broad_rel_type  conf_score  num_votes  percent_agree  \\\n",
        "0  drug_disease_124       positive      5.9119          7       0.674728   \n",
        "1  drug_disease_124    speculative      2.8500          3       0.325272   \n",
        "\n",
        "   match  \n",
        "0      0  \n",
        "1      0  \n",
        "\n",
        "Job 712214:\n",
        "         pub_rel_id      sentence_claim  conf_score  num_votes  percent_agree  \\\n",
        "1  drug_disease_124  uncertain_relation      2.8889          3       0.742858   \n",
        "0  drug_disease_124   definite_relation      1.0000          1       0.257142   \n",
        "\n",
        "   match  \n",
        "1      0  \n",
        "0      0  \n",
        "\n",
        "----------------------------- Deep semantics --------------------------\n",
        "Job 710587:\n",
        "         pub_rel_id deep_semantics  conf_score  num_votes\n",
        "0  drug_disease_124      may_cause      5.9119          7\n",
        "\n",
        "Job 712214\n",
        "\n",
        "         pub_rel_id           deep_sem  conf_score  num_votes\n",
        "0  drug_disease_124  worsens_or_causes      2.8889          3\n",
        "\n",
        "========================================================\n",
        "EUADR:"
       ]
      },
      {
       "output_type": "stream",
       "stream": "stdout",
       "text": [
        " positive\n",
        "\n",
        "[[Intra-articular injection of lidocaine]] before closed reduction of [[anterior shoulder dislocation]] produces the same pain relief as intravenous meperidine and diazepam.\n",
        "\n",
        "Job 710587:\n",
        "        pub_rel_id broad_rel_type  conf_score  num_votes  percent_agree  match\n",
        "2  drug_disease_24       positive      4.3905          5       0.498835      1\n",
        "0  drug_disease_24          false      3.6610          4       0.415952      0\n",
        "1  drug_disease_24       negative      0.7500          1       0.085213      0\n",
        "\n",
        "Job 712214:\n",
        "        pub_rel_id      sentence_claim  conf_score  num_votes  percent_agree  \\\n",
        "2  drug_disease_24     is_cooccurrence      1.6374          2       0.308565   \n",
        "4  drug_disease_24  uncertain_relation      1.0000          1       0.188448   \n",
        "1  drug_disease_24   inferred_relation      0.9231          1       0.173956   \n",
        "3  drug_disease_24         no_relation      0.8889          1       0.167512   \n",
        "0  drug_disease_24   definite_relation      0.8571          1       0.161519   \n",
        "\n",
        "   match  \n",
        "2      0  \n",
        "4      0  \n",
        "1      0  \n",
        "3      0  \n",
        "0      1  \n",
        "\n",
        "----------------------------- Deep semantics --------------------------\n",
        "Job 710587:\n",
        "        pub_rel_id deep_semantics  conf_score  num_votes\n",
        "1  drug_disease_24  used_to_treat      3.4958          4\n",
        "0  drug_disease_24          other      0.8947          1\n",
        "\n",
        "\n",
        "========================================================\n",
        "EUADR: positive\n",
        "\n",
        "This study demonstrated that both low-dose [[topiramate]] and propranolol could significantly reduce [[migraine headache]] frequency, intensity, and duration.\n",
        "\n",
        "Job 710587:\n",
        "         pub_rel_id broad_rel_type  conf_score  num_votes  percent_agree  \\\n",
        "0  drug_disease_194       positive      7.7571          9       0.885807   \n",
        "1  drug_disease_194    speculative      1.0000          1       0.114193   \n",
        "\n",
        "   match  \n",
        "0      1  \n",
        "1      0  \n",
        "\n",
        "Job 712214:\n",
        "         pub_rel_id      sentence_claim  conf_score  num_votes  percent_agree  \\\n",
        "1  drug_disease_194  uncertain_relation       2.812          3       0.737671   \n",
        "0  drug_disease_194         no_relation       1.000          1       0.262329   \n",
        "\n",
        "   match  \n",
        "1      0  \n",
        "0      0  \n",
        "\n",
        "----------------------------- Deep semantics --------------------------\n",
        "Job 710587:\n",
        "         pub_rel_id deep_semantics  conf_score  num_votes\n",
        "0  drug_disease_194  used_to_treat      7.7571          9\n",
        "\n",
        "Job 712214\n",
        "\n",
        "         pub_rel_id            deep_sem  conf_score  num_votes\n",
        "0  drug_disease_194  improves_or_treats      1.9231          2\n",
        "1  drug_disease_194   worsens_or_causes      0.8889          1\n",
        "\n",
        "========================================================\n",
        "EUADR: positive\n",
        "\n",
        "The most common adverse effects associated with the use of [[posaconazole]] include headache, fever, nausea, vomiting, and [[diarrhea]].\n",
        "\n",
        "Job 710587:\n",
        "        pub_rel_id broad_rel_type  conf_score  num_votes  percent_agree  match\n",
        "0  drug_disease_97       positive      8.7619         10              1      1\n",
        "\n",
        "Job 712214:\n",
        "        pub_rel_id      sentence_claim  conf_score  num_votes  percent_agree  \\\n",
        "1  drug_disease_97  uncertain_relation      1.8889          2       0.671728   \n",
        "0  drug_disease_97   definite_relation      0.9231          1       0.328272   \n",
        "\n",
        "   match  \n",
        "1      0  \n",
        "0      1  \n",
        "\n",
        "----------------------------- Deep semantics --------------------------\n",
        "Job 710587:\n",
        "        pub_rel_id deep_semantics  conf_score  num_votes\n",
        "0  drug_disease_97      may_cause      8.7619         10\n",
        "\n",
        "Job 712214\n",
        "\n",
        "        pub_rel_id           deep_sem  conf_score  num_votes\n",
        "0  drug_disease_97  worsens_or_causes      1.8889          2\n",
        "\n",
        "========================================================\n",
        "EUADR:"
       ]
      },
      {
       "output_type": "stream",
       "stream": "stdout",
       "text": [
        " positive\n",
        "\n",
        "Similarly, the same regimen of posaconazole reduced [[invasive fungal infections]] (95% CI -9.7 to -2.5) and aspergillosis (CI not reported, p < 0.001) when compared with fluconazole and [[itraconazole]] in neutropenic patients.\n",
        "\n",
        "Job 710587:\n",
        "         pub_rel_id broad_rel_type  conf_score  num_votes  percent_agree  \\\n",
        "1  drug_disease_100       positive      6.0585          7       0.710116   \n",
        "0  drug_disease_100          false      2.4732          3       0.289884   \n",
        "\n",
        "   match  \n",
        "1      1  \n",
        "0      0  \n",
        "\n",
        "Job 712214:\n",
        "         pub_rel_id     sentence_claim  conf_score  num_votes  percent_agree  \\\n",
        "0  drug_disease_100  inferred_relation      2.8889          3              1   \n",
        "\n",
        "   match  \n",
        "0      0  \n",
        "\n",
        "----------------------------- Deep semantics --------------------------\n",
        "Job 710587:\n",
        "         pub_rel_id deep_semantics  conf_score  num_votes\n",
        "1  drug_disease_100  used_to_treat      5.2123          6\n",
        "0  drug_disease_100      may_cause      0.8462          1\n",
        "\n",
        "Job 712214\n",
        "\n",
        "         pub_rel_id            deep_sem  conf_score  num_votes\n",
        "0  drug_disease_100  improves_or_treats      2.0000          2\n",
        "1  drug_disease_100   worsens_or_causes      0.8889          1\n",
        "\n",
        "========================================================\n",
        "EUADR: false\n",
        "\n",
        "Dental surgery for these children has historically consisted of decreasing and/or discontinuing the oral [[anticoagulant]] and instituting heparin therapy prior to the planned dental procedure, which can result in [[thromboembolism]] and increased morbidity and mortality.\n",
        "\n",
        "Job 710587:\n",
        "         pub_rel_id broad_rel_type  conf_score  num_votes  percent_agree  \\\n",
        "2  drug_disease_173       positive      4.5302          5       0.497551   \n",
        "0  drug_disease_173          false      2.7248          3       0.299264   \n",
        "1  drug_disease_173       negative      1.8500          2       0.203185   \n",
        "\n",
        "   match  \n",
        "2      0  \n",
        "0      1  \n",
        "1      0  \n",
        "\n",
        "Job 712214:\n",
        "         pub_rel_id      sentence_claim  conf_score  num_votes  percent_agree  \\\n",
        "3  drug_disease_173  uncertain_relation      2.7266          3       0.385211   \n",
        "0  drug_disease_173   definite_relation      1.7142          2       0.242180   \n",
        "2  drug_disease_173     is_cooccurrence      1.6374          2       0.231330   \n",
        "1  drug_disease_173   inferred_relation      1.0000          1       0.141279   \n",
        "\n",
        "   match  \n",
        "3      0  \n",
        "0      0  \n",
        "2      1  \n",
        "1      1  \n",
        "\n",
        "----------------------------- Deep semantics --------------------------\n",
        "Job 710587:\n",
        "         pub_rel_id deep_semantics  conf_score  num_votes\n",
        "0  drug_disease_173      may_cause      3.6552          4\n",
        "1  drug_disease_173  used_to_treat      0.8750          1\n",
        "\n",
        "Job 712214\n",
        "\n",
        "         pub_rel_id           deep_sem  conf_score  num_votes\n",
        "0  drug_disease_173  worsens_or_causes      2.7266          3\n",
        "\n",
        "========================================================\n",
        "EUADR: positive\n",
        "\n",
        "Similarly, the same regimen of posaconazole reduced invasive fungal infections (95% CI -9.7 to -2.5) and [[aspergillosis]] (CI not reported, p < 0.001) when compared with fluconazole and [[itraconazole]] in neutropenic patients.\n",
        "\n",
        "Job 710587:\n",
        "        pub_rel_id broad_rel_type  conf_score  num_votes  percent_agree  match\n",
        "2  drug_disease_99       positive      3.5699          4       0.404274      1\n",
        "0  drug_disease_99          false      3.4819          4       0.394308      0\n",
        "3  drug_disease_99    speculative      0.9286          1       0.105159      0\n",
        "1  drug_disease_99       negative      0.8500          1       0.096258      0\n",
        "\n",
        "Job 712214:\n",
        "        pub_rel_id     sentence_claim  conf_score  num_votes  percent_agree  \\\n",
        "0  drug_disease_99  inferred_relation      2.8182          3              1   \n",
        "\n",
        "   match  \n",
        "0      0  \n",
        "\n",
        "----------------------------- Deep semantics --------------------------\n",
        "Job 710587:\n",
        "        pub_rel_id deep_semantics  conf_score  num_votes\n",
        "0  drug_disease_99  used_to_treat      3.5699          4\n",
        "\n",
        "Job 712214\n",
        "\n",
        "        pub_rel_id            deep_sem  conf_score  num_votes\n",
        "0  drug_disease_99  improves_or_treats      2.8182          3\n",
        "\n",
        "========================================================\n",
        "EUADR:"
       ]
      },
      {
       "output_type": "stream",
       "stream": "stdout",
       "text": [
        " positive\n",
        "\n",
        "Posaconazole, in doses of 200 mg 3 times daily, reduced breakthrough [[invasive fungal infections]] (OR 0.30; 95% CI 0.12 to 0.71) and aspergillosis incidence (OR 0.31; 95% CI 0.13 to 0.75) in patients receiving hematopoietic stem-cell transplants compared with those receiving [[fluconazole]].\n",
        "\n",
        "Job 710587:\n",
        "         pub_rel_id broad_rel_type  conf_score  num_votes  percent_agree  \\\n",
        "1  drug_disease_113       positive      5.4381          6       0.620993   \n",
        "0  drug_disease_113          false      2.4857          3       0.283850   \n",
        "2  drug_disease_113    speculative      0.8333          1       0.095157   \n",
        "\n",
        "   match  \n",
        "1      1  \n",
        "0      0  \n",
        "2      0  \n",
        "\n",
        "Job 712214:\n",
        "         pub_rel_id      sentence_claim  conf_score  num_votes  percent_agree  \\\n",
        "0  drug_disease_113   inferred_relation      2.0000          2       0.692305   \n",
        "1  drug_disease_113  uncertain_relation      0.8889          1       0.307695   \n",
        "\n",
        "   match  \n",
        "0      0  \n",
        "1      0  \n",
        "\n",
        "----------------------------- Deep semantics --------------------------\n",
        "Job 710587:\n",
        "         pub_rel_id deep_semantics  conf_score  num_votes\n",
        "1  drug_disease_113  used_to_treat      4.5048          5\n",
        "0  drug_disease_113          other      0.9333          1\n",
        "\n",
        "Job 712214\n",
        "\n",
        "         pub_rel_id            deep_sem  conf_score  num_votes\n",
        "0  drug_disease_113  improves_or_treats           1          1\n",
        "1  drug_disease_113   worsens_or_causes           1          1\n",
        "\n",
        "========================================================\n",
        "EUADR: positive\n",
        "\n",
        "For exposure levels within standard recommended guidelines, [[radioisotopes]] are far more likely to play a role in the occurrence of [[spontaneous abortions]] than X-rays.\n",
        "\n",
        "Job 710587:\n",
        "         pub_rel_id broad_rel_type  conf_score  num_votes  percent_agree  \\\n",
        "0  drug_disease_139       positive      8.6583         10              1   \n",
        "\n",
        "   match  \n",
        "0      1  \n",
        "\n",
        "Job 712214:\n",
        "         pub_rel_id      sentence_claim  conf_score  num_votes  percent_agree  \\\n",
        "1  drug_disease_139  uncertain_relation      1.8889          2       0.693887   \n",
        "0  drug_disease_139   definite_relation      0.8333          1       0.306113   \n",
        "\n",
        "   match  \n",
        "1      0  \n",
        "0      1  \n",
        "\n",
        "----------------------------- Deep semantics --------------------------\n",
        "Job 710587:\n",
        "         pub_rel_id deep_semantics  conf_score  num_votes\n",
        "0  drug_disease_139      may_cause      8.6583         10\n",
        "\n",
        "Job 712214\n",
        "\n",
        "         pub_rel_id           deep_sem  conf_score  num_votes\n",
        "0  drug_disease_139  worsens_or_causes      1.8889          2\n",
        "\n",
        "========================================================\n"
       ]
      }
     ],
     "prompt_number": 26
    },
    {
     "cell_type": "code",
     "collapsed": false,
     "input": [],
     "language": "python",
     "metadata": {},
     "outputs": [],
     "prompt_number": 24
    }
   ],
   "metadata": {}
  }
 ]
}