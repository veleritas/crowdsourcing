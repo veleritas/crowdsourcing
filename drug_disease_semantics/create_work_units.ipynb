{
 "metadata": {
  "name": "",
  "signature": "sha256:6f0257f8d025ff79239e958e2c1c919b5c6658361239219a8e470d1cfb0d5b5a"
 },
 "nbformat": 3,
 "nbformat_minor": 0,
 "worksheets": [
  {
   "cells": [
    {
     "cell_type": "heading",
     "level": 2,
     "metadata": {},
     "source": [
      "Program for choosing random work units from the drug/disease links of the EU-ADR corpus for CrowdFlower"
     ]
    },
    {
     "cell_type": "markdown",
     "metadata": {},
     "source": [
      "Created on 2015-03-31\n",
      "Last updated 2015-04-13\n",
      "Tong Shu Li"
     ]
    },
    {
     "cell_type": "markdown",
     "metadata": {},
     "source": [
      "This program generates the data for CrowdFlower by randomly selecting drug-disease relationships from the published EU-ADR."
     ]
    },
    {
     "cell_type": "code",
     "collapsed": false,
     "input": [
      "from collections import Counter\n",
      "import pandas as pd\n",
      "import random\n",
      "\n",
      "random.seed()"
     ],
     "language": "python",
     "metadata": {},
     "outputs": [],
     "prompt_number": 1
    },
    {
     "cell_type": "markdown",
     "metadata": {},
     "source": [
      "Read the EU-ADR data into memory:"
     ]
    },
    {
     "cell_type": "code",
     "collapsed": false,
     "input": [
      "loc = \"data/pub_EUADR_drug_disease_id.tsv\"\n",
      "data = pd.read_csv(loc, sep = \"\\t\")"
     ],
     "language": "python",
     "metadata": {},
     "outputs": [],
     "prompt_number": 2
    },
    {
     "cell_type": "markdown",
     "metadata": {},
     "source": [
      "Rename the columns:"
     ]
    },
    {
     "cell_type": "code",
     "collapsed": false,
     "input": [
      "column_names = [\n",
      "    \"gold_std_association_type\", \"pubmed_id\", \"num_sentence\",\n",
      "    \"subject_text\", \"subject_start\", \"subject_end\", \"subject_type\",\n",
      "    \"object_text\", \"object_start\", \"object_end\", \"object_type\",\n",
      "    \"original_sentence\", \"pub_rel_id\"\n",
      "]\n",
      "\n",
      "data.columns = column_names"
     ],
     "language": "python",
     "metadata": {},
     "outputs": [],
     "prompt_number": 3
    },
    {
     "cell_type": "markdown",
     "metadata": {},
     "source": [
      "Rename the entity types to something simpler:"
     ]
    },
    {
     "cell_type": "code",
     "collapsed": false,
     "input": [
      "data[\"subject_type\"] = \"disease\"\n",
      "data[\"object_type\"] = \"drug\""
     ],
     "language": "python",
     "metadata": {},
     "outputs": [],
     "prompt_number": 4
    },
    {
     "cell_type": "markdown",
     "metadata": {},
     "source": [
      "What is the distribution of positive/false/speculative/negative answers in the gold standard?"
     ]
    },
    {
     "cell_type": "code",
     "collapsed": false,
     "input": [
      "Counter(data[\"gold_std_association_type\"])"
     ],
     "language": "python",
     "metadata": {},
     "outputs": [
      {
       "metadata": {},
       "output_type": "pyout",
       "prompt_number": 5,
       "text": [
        "Counter({'positive': 162, 'false': 68, 'speculative': 12, 'negative': 2})"
       ]
      }
     ],
     "prompt_number": 5
    },
    {
     "cell_type": "markdown",
     "metadata": {},
     "source": [
      "Total rows of data in the EU-ADR:"
     ]
    },
    {
     "cell_type": "code",
     "collapsed": false,
     "input": [
      "print \"Total rows of data:\", len(data)"
     ],
     "language": "python",
     "metadata": {},
     "outputs": [
      {
       "output_type": "stream",
       "stream": "stdout",
       "text": [
        "Total rows of data: 244\n"
       ]
      }
     ],
     "prompt_number": 6
    },
    {
     "cell_type": "markdown",
     "metadata": {},
     "source": [
      "We are going to arbitrarily choose 60 rows of data to give to the Crowd."
     ]
    },
    {
     "cell_type": "code",
     "collapsed": false,
     "input": [
      "def random_rows(data_frame, n):\n",
      "    return data_frame.ix[random.sample(data_frame.index, n)]"
     ],
     "language": "python",
     "metadata": {},
     "outputs": [],
     "prompt_number": 7
    },
    {
     "cell_type": "code",
     "collapsed": false,
     "input": [
      "num_work_units = 244\n",
      "work_units = random_rows(data, num_work_units)"
     ],
     "language": "python",
     "metadata": {},
     "outputs": [],
     "prompt_number": 8
    },
    {
     "cell_type": "markdown",
     "metadata": {},
     "source": [
      "Let's look at the distribution of answers in the work units:"
     ]
    },
    {
     "cell_type": "code",
     "collapsed": false,
     "input": [
      "Counter(work_units[\"gold_std_association_type\"])"
     ],
     "language": "python",
     "metadata": {},
     "outputs": [
      {
       "metadata": {},
       "output_type": "pyout",
       "prompt_number": 9,
       "text": [
        "Counter({'positive': 162, 'false': 68, 'speculative': 12, 'negative': 2})"
       ]
      }
     ],
     "prompt_number": 9
    },
    {
     "cell_type": "markdown",
     "metadata": {},
     "source": [
      "We need to highlight the drug and disease in the sentences:"
     ]
    },
    {
     "cell_type": "code",
     "collapsed": false,
     "input": [
      "def add_simple_tag(tag_name, tag_class, text):\n",
      "    \"\"\"Add a html tag to some text, allowing it to be highlighted.\"\"\"\n",
      "    return \"<{0} class=\\\"{1}\\\">{2}</{0}>\".format(tag_name, tag_class, text)"
     ],
     "language": "python",
     "metadata": {},
     "outputs": [],
     "prompt_number": 10
    },
    {
     "cell_type": "code",
     "collapsed": false,
     "input": [
      "def highlight_concepts(text, sub_text, obj_text):\n",
      "    if text == sub_text:\n",
      "        return add_simple_tag(\"span\", \"subject_text\", text)\n",
      "    \n",
      "    if text == obj_text:\n",
      "        return add_simple_tag(\"span\", \"object_text\", text)\n",
      "    \n",
      "    return text"
     ],
     "language": "python",
     "metadata": {},
     "outputs": [],
     "prompt_number": 11
    },
    {
     "cell_type": "code",
     "collapsed": false,
     "input": [
      "def highlight_sentence(row):\n",
      "    \"\"\"\n",
      "    Generates the highlighted sentence for Crowdflower\n",
      "    given one single dataframe row.\n",
      "    \"\"\"\n",
      "    positions = sorted([0, len(row[\"original_sentence\"]),\n",
      "                        row[\"subject_start\"], row[\"subject_end\"],\n",
      "                        row[\"object_start\"], row[\"object_end\"]])\n",
      "    \n",
      "    sentence = row[\"original_sentence\"]\n",
      "    \n",
      "    temp = []\n",
      "    for i in range(len(positions) - 1):\n",
      "        temp += highlight_concepts(sentence[positions[i] : positions[i+1]],\n",
      "                                   row[\"subject_text\"], row[\"object_text\"])\n",
      "        \n",
      "    return add_simple_tag(\"div\", \"formatted_sentence\", \"\".join(temp))"
     ],
     "language": "python",
     "metadata": {},
     "outputs": [],
     "prompt_number": 12
    },
    {
     "cell_type": "code",
     "collapsed": false,
     "input": [
      "sentences = work_units.apply(highlight_sentence, axis = 1)\n",
      "work_units[\"formatted_sentence\"] = sentences"
     ],
     "language": "python",
     "metadata": {},
     "outputs": [],
     "prompt_number": 13
    },
    {
     "cell_type": "markdown",
     "metadata": {},
     "source": [
      "We also want to provide highlighted terms to use in the questions:"
     ]
    },
    {
     "cell_type": "code",
     "collapsed": false,
     "input": [
      "def format_subject(text):\n",
      "    return \"&quot;{0}&quot;\".format(add_simple_tag(\"span\", \"form_subject\", text))\n",
      "\n",
      "def format_object(text):\n",
      "    return \"&quot;{0}&quot;\".format(add_simple_tag(\"span\", \"form_object\", text))"
     ],
     "language": "python",
     "metadata": {},
     "outputs": [],
     "prompt_number": 14
    },
    {
     "cell_type": "code",
     "collapsed": false,
     "input": [
      "form_subject = work_units[\"subject_text\"].apply(format_subject)\n",
      "form_object = work_units[\"object_text\"].apply(format_object)"
     ],
     "language": "python",
     "metadata": {},
     "outputs": [],
     "prompt_number": 15
    },
    {
     "cell_type": "code",
     "collapsed": false,
     "input": [
      "work_units[\"form_subject\"] = form_subject\n",
      "work_units[\"form_object\"] = form_object"
     ],
     "language": "python",
     "metadata": {},
     "outputs": [],
     "prompt_number": 16
    },
    {
     "cell_type": "markdown",
     "metadata": {},
     "source": [
      "Write everything to a file:"
     ]
    },
    {
     "cell_type": "code",
     "collapsed": false,
     "input": [
      "work_units.to_csv(\"new_work_units_for_cf.tsv\", sep = \"\\t\", index = False)"
     ],
     "language": "python",
     "metadata": {},
     "outputs": [],
     "prompt_number": 17
    }
   ],
   "metadata": {}
  }
 ]
}