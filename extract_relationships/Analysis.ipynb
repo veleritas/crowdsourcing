{
 "metadata": {
  "name": "",
  "signature": "sha256:6ab7973e09cccb49018b4de00ad64f378c18999b00c462fc8ef9438eb4337b23"
 },
 "nbformat": 3,
 "nbformat_minor": 0,
 "worksheets": [
  {
   "cells": [
    {
     "cell_type": "heading",
     "level": 2,
     "metadata": {},
     "source": [
      "Analysis of CrowdFlower Job 705001: Performance for broad and deep semantic relationships"
     ]
    },
    {
     "cell_type": "raw",
     "metadata": {},
     "source": [
      "2015-03-25 Toby"
     ]
    },
    {
     "cell_type": "code",
     "collapsed": false,
     "input": [
      "import os\n",
      "import pandas as pd\n",
      "import pprint\n",
      "import matplotlib.pyplot as plt\n",
      "\n",
      "%matplotlib inline\n",
      "%pylab inline"
     ],
     "language": "python",
     "metadata": {},
     "outputs": [
      {
       "output_type": "stream",
       "stream": "stdout",
       "text": [
        "Populating the interactive namespace from numpy and matplotlib\n"
       ]
      }
     ],
     "prompt_number": 1
    },
    {
     "cell_type": "code",
     "collapsed": false,
     "input": [
      "from src.filter_data import filter_data\n",
      "from src.true_relation_type import get_true_relation_type\n",
      "from src.aggregate_votes import aggregate_votes\n",
      "from src.broad_relationships import determine_broad_relationship_matches\n",
      "\n",
      "from src.summary import data_summary"
     ],
     "language": "python",
     "metadata": {},
     "outputs": [],
     "prompt_number": 2
    },
    {
     "cell_type": "code",
     "collapsed": false,
     "input": [
      "import re\n",
      "def remove_tags(text):\n",
      "    text = text.replace(\"&quot;\", \"\")\n",
      "    text = text.replace(\"<div class=\\\"formatted_sentence\\\" id=\\\"\\\" style=\\\"display: \\\">\", \"\")\n",
      "    text = text.replace(\"</span>\", \"\")\n",
      "    text = text.replace(\"<span class=\\\"subject_text\\\" id=\\\"\\\" style=\\\"display: \\\">\", \"\")\n",
      "    text = text.replace(\"<span class=\\\"object_text\\\" id=\\\"\\\" style=\\\"display: \\\">\", \"\")\n",
      "    text = text.replace(\"</div>\", \"\")\n",
      "    return text\n",
      "\n",
      "def get_original_problem(unit_id):\n",
      "    \"\"\"\n",
      "    Returns the subject text, object text, and sentence for this work unit id.\n",
      "    \"\"\"\n",
      "    loc = \"/home/toby/crowdsourcing/extract_relationships/results/analysis/\"\n",
      "    fname = \"705001_full_with_untrusted_and_unfinished.csv\"\n",
      "    \n",
      "    raw_data = pd.read_csv(loc + fname, sep = \"\\t\")\n",
      "    \n",
      "    subset = raw_data[raw_data[\"_unit_id\"] == unit_id]\n",
      "    \n",
      "    sentence = subset[\"formatted_sentence\"].iloc[0]\n",
      "    sub_text = subset[\"subject_text\"].iloc[0]\n",
      "    obj_text = subset[\"object_text\"].iloc[0]\n",
      "    \n",
      "    sentence = remove_tags(sentence)\n",
      "    sub_text = remove_tags(sub_text)\n",
      "    obj_text = remove_tags(obj_text)\n",
      "    \n",
      "    sentence = sentence.replace(sub_text, \"[[{0}]]\".format(sub_text))\n",
      "    sentence = sentence.replace(obj_text, \"[[{0}]]\".format(obj_text))\n",
      "    \n",
      "    return (sub_text, obj_text, sentence)"
     ],
     "language": "python",
     "metadata": {},
     "outputs": [],
     "prompt_number": 75
    },
    {
     "cell_type": "code",
     "collapsed": false,
     "input": [
      "def get_results(settings):\n",
      "    loc = \"/home/toby/crowdsourcing/extract_relationships/results/analysis\"\n",
      "    fname = \"705001_full_with_untrusted_and_unfinished.csv\"\n",
      "\n",
      "    true_relation_type, human_responses = read_data(fname, loc, **settings)\n",
      "    results = determine_broad_relationship_matches(true_relation_type, human_responses)\n",
      "\n",
      "    if \"show_raw\" in settings and settings[\"show_raw\"]:\n",
      "        for unit_id, df in results.items():\n",
      "            print \"unit id: {0}\".format(unit_id)\n",
      "            print \"gold std relation type: {0}\".format(true_relation_type[unit_id])\n",
      "            print df\n",
      "            print\n",
      "            \n",
      "    return (true_relation_type, results)"
     ],
     "language": "python",
     "metadata": {},
     "outputs": [],
     "prompt_number": 43
    },
    {
     "cell_type": "raw",
     "metadata": {},
     "source": [
      "Let's look at the questions which the top response did not match the gold standard. Is the crowd wrong, or is the gold standard wrong?"
     ]
    },
    {
     "cell_type": "code",
     "collapsed": false,
     "input": [
      "def show_data_for_wrong_answers(settings):\n",
      "    true_relation_type, results = get_results(settings)\n",
      "    print \"Total work units: {0}\".format(len(results))\n",
      "\n",
      "    wrong_work_units = set()\n",
      "    for unit_id, data in results.items():\n",
      "        if data[\"match\"].iloc[0] != 1: # top choice is wrong\n",
      "            wrong_work_units.add(int(unit_id))\n",
      "            \n",
      "    print \"Number of incorrect work units: {0}\".format(len(wrong_work_units))\n",
      "\n",
      "    print\n",
      "    print \"Work units which the crowd response did not match the gold standard answer:\\n\"\n",
      "    for unit_id in wrong_work_units:\n",
      "        sub_text, obj_text, sentence = get_original_problem(unit_id)\n",
      "\n",
      "        print \"Gold standard answer: {0}\".format(true_relation_type[str(unit_id)])\n",
      "        print results[str(unit_id)]\n",
      "        print\n",
      "        print sentence\n",
      "        print\n",
      "        \n",
      "    return wrong_work_units"
     ],
     "language": "python",
     "metadata": {},
     "outputs": [
      {
       "output_type": "stream",
       "stream": "stdout",
       "text": [
        "\n"
       ]
      }
     ],
     "prompt_number": 106
    },
    {
     "cell_type": "code",
     "collapsed": false,
     "input": [
      "settings = {\n",
      "    \"data_subset\": \"normal\",\n",
      "    \"min_accuracy\": 0.7,\n",
      "    \"link_type\": \"drug/disease\",\n",
      "    \"show_raw\": False\n",
      "}\n",
      "\n",
      "show_data_for_wrong_answers(settings)"
     ],
     "language": "python",
     "metadata": {},
     "outputs": [
      {
       "output_type": "stream",
       "stream": "stdout",
       "text": [
        "Total work units: 10\n",
        "Number of incorrect work units: 5\n",
        "\n",
        "Work units which the crowd response did not match the gold standard answer:\n",
        "\n",
        "Gold standard answer: false\n",
        "  relation_type  conf_score  num_votes  percent_agreement  match\n",
        "0      negative      1.6288          2                  1      0\n",
        "\n",
        "The frequency of PONV did not correlate to the amounts of [alfentanil], propofol, postoperative antiemetics consumed, or to female gender, non-smoking status, and history of PONV or [motion sickness].\n",
        "\n",
        "Gold standard answer: false"
       ]
      },
      {
       "output_type": "stream",
       "stream": "stdout",
       "text": [
        "\n",
        "  relation_type  conf_score  num_votes  percent_agreement  match\n",
        "0      positive      1.5826          2           0.651597      0\n",
        "1   speculative      0.8462          1           0.348403      0\n",
        "\n",
        "No significant differences were observed between FeSO4+citrate and [NaFe-EDTA] fortification, regarding mitigation of [iron-deficiency anemia] (IDA) or regarding CRP, growth, infections, or side-effects.\n",
        "\n",
        "Gold standard answer: false\n",
        "  relation_type  conf_score  num_votes  percent_agreement  match\n",
        "0      negative      1.6288          2           0.670619      0\n",
        "1         false      0.8000          1           0.329381      1\n",
        "\n",
        "Compared with both diuretics and contemporary agents, [amlodipine] decreases cardiovascular events to a similar or greater extent without evidence for increased [coronary heart disease], gastrointestinal bleeding or cancer.\n",
        "\n",
        "Gold standard answer: speculative"
       ]
      },
      {
       "output_type": "stream",
       "stream": "stdout",
       "text": [
        "\n",
        "  relation_type  conf_score  num_votes  percent_agreement  match\n",
        "0         false      1.5692          2           0.667234      0\n",
        "1      positive      0.7826          1           0.332766      0\n",
        "\n",
        "We tested the hypothesis that [oral beclomethasone dipropionate] (BDP) would control gastrointestinal graft-versus-host disease ([GVHD]) in patients with anorexia, vomiting, and diarrhea.\n",
        "\n",
        "Gold standard answer: false\n",
        "  relation_type  conf_score  num_votes  percent_agreement  match\n",
        "0      positive      1.5518          2                  1      0\n",
        "\n",
        "Maternal use of [BZD] and/or HBRA may increase the risk for [preterm birth] and low birth weight and cause neonatal symptoms, but does not appear to have a strong teratogenic potential.\n",
        "\n"
       ]
      }
     ],
     "prompt_number": 68
    },
    {
     "cell_type": "code",
     "collapsed": false,
     "input": [
      "settings = {\n",
      "    \"data_subset\": \"normal\",\n",
      "    \"min_accuracy\": 0.7,\n",
      "    \"link_type\": \"gene or protein/disease\",\n",
      "    \"show_raw\": False\n",
      "}\n",
      "\n",
      "show_data_for_wrong_answers(settings)"
     ],
     "language": "python",
     "metadata": {},
     "outputs": [
      {
       "output_type": "stream",
       "stream": "stdout",
       "text": [
        "Total work units: 10\n",
        "Number of incorrect work units: 3\n",
        "\n",
        "Work units which the crowd response did not match the gold standard answer:\n",
        "\n",
        "Gold standard answer: false\n",
        "  relation_type  conf_score  num_votes  percent_agreement  match\n",
        "0      positive      2.3518          3                  1      0\n",
        "\n",
        "Lysophosphatidic acid facilitates proliferation of [colon cancer] cells via induction of [Kr\ufffdppel-like factor 5].\n",
        "\n",
        "Gold standard answer: speculative"
       ]
      },
      {
       "output_type": "stream",
       "stream": "stdout",
       "text": [
        "\n",
        "  relation_type  conf_score  num_votes  percent_agreement  match\n",
        "0      positive      1.5826          2                  1      0\n",
        "\n",
        "Taken together, these data suggest that low levels of [IL-10] during the disease outcome can drive patients to a chronic and unprotective response that culminates with [leprosy].\n",
        "\n",
        "Gold standard answer: positive\n",
        "  relation_type  conf_score  num_votes  percent_agreement  match\n",
        "0         false      0.7826          1           0.504318      0\n",
        "1   speculative      0.7692          1           0.495682      0\n",
        "\n",
        "An anti-inflammatory and anticarcinogenic potential has been inferred from the development of colitis and [intestinal cancer] in [GPx1] and GPx2 double knockout mice.\n",
        "\n"
       ]
      }
     ],
     "prompt_number": 69
    },
    {
     "cell_type": "code",
     "collapsed": false,
     "input": [
      "settings = {\n",
      "    \"data_subset\": \"normal\",\n",
      "    \"min_accuracy\": 0.7,\n",
      "    \"link_type\": \"gene variant/disease\",\n",
      "    \"show_raw\": False\n",
      "}\n",
      "\n",
      "show_data_for_wrong_answers(settings)"
     ],
     "language": "python",
     "metadata": {},
     "outputs": [
      {
       "output_type": "stream",
       "stream": "stdout",
       "text": [
        "Total work units: 10\n",
        "Number of incorrect work units: 2\n",
        "\n",
        "Work units which the crowd response did not match the gold standard answer:\n",
        "\n",
        "Gold standard answer: false\n",
        "  relation_type  conf_score  num_votes  percent_agreement  match\n",
        "0      positive      1.5826          2           0.672931      0\n",
        "1         false      0.7692          1           0.327069      1\n",
        "\n",
        "Moreover, protective alleles for four disease-associated SNPs in the MHC locus (rs2395029, rs13199524, [[rs12198173]] and rs3093662) were strikingly over-represented among forty-five Long Term [[HIV]] controllers.\n",
        "\n",
        "Gold standard answer: false"
       ]
      },
      {
       "output_type": "stream",
       "stream": "stdout",
       "text": [
        "\n",
        "  relation_type  conf_score  num_votes  percent_agreement  match\n",
        "0   speculative      0.8462          1           0.519524      0\n",
        "1      positive      0.7826          1           0.480476      0\n",
        "\n",
        "A common SNP upstream of the INSIG2 gene, [[rs7566605]] (g.-10,1025G>C, Chr2:118,552,255, NT_022135.15), was reported to be associated with [[obesity]] (Body Mass Index, [BMI]) in a genome-wide association scan using the Framingham Heart Study but has not been reproduced in other cohorts.\n",
        "\n"
       ]
      }
     ],
     "prompt_number": 72
    },
    {
     "cell_type": "code",
     "collapsed": false,
     "input": [
      "settings = {\n",
      "    \"data_subset\": \"normal\",\n",
      "    \"min_accuracy\": 0.7,\n",
      "    \"link_type\": \"drug/gene or protein\",\n",
      "    \"show_raw\": False\n",
      "}\n",
      "\n",
      "show_data_for_wrong_answers(settings)"
     ],
     "language": "python",
     "metadata": {},
     "outputs": [
      {
       "output_type": "stream",
       "stream": "stdout",
       "text": [
        "Total work units: 10\n",
        "Number of incorrect work units: 4\n",
        "\n",
        "Work units which the crowd response did not match the gold standard answer:\n",
        "\n",
        "Gold standard answer: speculative\n",
        "  relation_type  conf_score  num_votes  percent_agreement  match\n",
        "0         false      0.8000          1           0.340165      0\n",
        "1   speculative      0.7826          1           0.332766      1\n",
        "2      positive      0.7692          1           0.327069      0\n",
        "\n",
        "The inhibitory effect of [[paeonol]] on ICAM-1 production might be mediated by inhibiting p38, [[ERK]] and NF-kappaB signaling pathways, which are involved in TNF-alpha-induced ICAM-1 production.\n",
        "\n",
        "Gold standard answer: speculative"
       ]
      },
      {
       "output_type": "stream",
       "stream": "stdout",
       "text": [
        "\n",
        "  relation_type  conf_score  num_votes  percent_agreement  match\n",
        "0      positive      1.5518          2                  1      0\n",
        "\n",
        "Taken together, [[LYR-71]] was an efficient inhibitor of IKKbeta, preventing NF-kappaB activation in macrophages, and this mechanism of action could contribute its down-regulatory effect on LPS-induced expression of [[inflammatory cytokines]] at the transcription level.\n",
        "\n",
        "Gold standard answer: false\n",
        "  relation_type  conf_score  num_votes  percent_agreement  match\n",
        "0      positive      2.3518          3                  1      0\n",
        "\n",
        "We have developed a small-molecule inhibitor of all three vascular endothelial growth factor ([[VEGF) receptors]] (VEGFR), platelet-derived growth factor receptor, and c-Kit tyrosine kinases, [[pazopanib]] (GW786034), which selectively inhibits VEGF-induced endothelial cell proliferation.\n",
        "\n",
        "Gold standard answer: false"
       ]
      },
      {
       "output_type": "stream",
       "stream": "stdout",
       "text": [
        "\n",
        "  relation_type  conf_score  num_votes  percent_agreement  match\n",
        "0      positive      0.7826          1           0.504318      0\n",
        "1      negative      0.7692          1           0.495682      0\n",
        "\n",
        "The pharmacological profile for P2X antagonists to inhibit [[[3H]A-804598]] binding correlated with their ability to block functional activation of [[P2X7 receptors]] (r=0.95, P\n",
        "\n"
       ]
      }
     ],
     "prompt_number": 73
    },
    {
     "cell_type": "code",
     "collapsed": false,
     "input": [
      "settings = {\n",
      "    \"data_subset\": \"normal\",\n",
      "    \"min_accuracy\": 0.7,\n",
      "    \"link_type\": \"gene variant/drug\",\n",
      "    \"show_raw\": False\n",
      "}\n",
      "\n",
      "show_data_for_wrong_answers(settings)"
     ],
     "language": "python",
     "metadata": {},
     "outputs": [
      {
       "output_type": "stream",
       "stream": "stdout",
       "text": [
        "Total work units: 9\n",
        "Number of incorrect work units: 4\n",
        "\n",
        "Work units which the crowd response did not match the gold standard answer:\n",
        "\n",
        "Gold standard answer: false\n",
        "  relation_type  conf_score  num_votes  percent_agreement  match\n",
        "0      positive      2.3518          3                  1      0\n",
        "\n",
        "These results suggest that [[FLT3/TKD+]] and FLT3/WT cases should not be differentiated when considering patients for treatment with [[FLT3 inhibitors]].\n",
        "\n",
        "Gold standard answer: false"
       ]
      },
      {
       "output_type": "stream",
       "stream": "stdout",
       "text": [
        "\n",
        "  relation_type  conf_score  num_votes  percent_agreement  match\n",
        "0      negative      1.5826          2                  1      0\n",
        "\n",
        "There was no correlation between mutant level and [[lestaurtinib]] sensitivity for either FLT3/ITD+ or [[FLT3/TKD+]] cells.\n",
        "\n",
        "Gold standard answer: negative\n",
        "  relation_type  conf_score  num_votes  percent_agreement  match\n",
        "0      positive      1.5518          2           0.668591      0\n",
        "1      negative      0.7692          1           0.331409      1\n",
        "\n",
        "All three groups showed similar sensitivity to the cytotoxic effects of [[cytarabine]] but FLT3/ITD mutant level was inversely correlated with [[cytarabine]] cytotoxicity (P = 0.04) whereas [[FLT3/TKD]] mutant level had no impact.\n",
        "\n",
        "Gold standard answer: false"
       ]
      },
      {
       "output_type": "stream",
       "stream": "stdout",
       "text": [
        "\n",
        "  relation_type  conf_score  num_votes  percent_agreement  match\n",
        "0   speculative      0.7826          1           0.504318      0\n",
        "1      negative      0.7692          1           0.495682      0\n",
        "\n",
        "Whilst FLT3/ITD+ cells are more susceptible to the cytotoxic effects of [[FLT3 inhibitors]] than wild type (WT) cells, the sensitivity of [[FLT3/TKD+]] cells to therapeutic agents is unclear, as is the importance of the mutant level.\n",
        "\n"
       ]
      }
     ],
     "prompt_number": 74
    },
    {
     "cell_type": "markdown",
     "metadata": {},
     "source": [
      "Let's try looking at my own annotations for the EU-ADR corpus, and see how it agrees with the gold standard."
     ]
    },
    {
     "cell_type": "code",
     "collapsed": false,
     "input": [
      "def get_toby_annotations():\n",
      "    loc = \"/home/toby/crowdsourcing/extract_relationships/results/analysis/\"\n",
      "    fname = \"toby_annotations_for_cf_705001.txt\"\n",
      "    return pd.read_csv(loc + fname, sep = \"\\t\")\n",
      "\n",
      "def get_gold_standard_answers():\n",
      "    settings = {\n",
      "        \"data_subset\": \"normal\",\n",
      "        \"min_accuracy\": 0.0,\n",
      "        \"link_type\": \"all\",\n",
      "        \"show_raw\": False\n",
      "    }\n",
      "\n",
      "    loc = \"/home/toby/crowdsourcing/extract_relationships/results/analysis\"\n",
      "    fname = \"705001_full_with_untrusted_and_unfinished.csv\"\n",
      "    true_relation_type, human_responses = read_data(fname, loc, **settings)\n",
      "    \n",
      "    return true_relation_type\n",
      "\n",
      "\n",
      "toby_data = get_toby_annotations()\n",
      "true_relation_type = get_gold_standard_answers()\n",
      "\n",
      "disagree = set() # set of unit ids that did not match the gold standard\n",
      "for unit_id in toby_data[\"unit_id\"]:\n",
      "    temp = toby_data[toby_data[\"unit_id\"] == unit_id]\n",
      "    toby_rel_type = temp[\"toby_association_type\"].iloc[0]\n",
      "\n",
      "    if toby_rel_type != true_relation_type[str(unit_id)]:\n",
      "        disagree.add(unit_id)\n",
      "\n",
      "        \n",
      "# get the work units that the crowd got \"wrong\"\n",
      "settings = {\n",
      "    \"data_subset\": \"normal\",\n",
      "    \"min_accuracy\": 0.7,\n",
      "    \"link_type\": \"all\",\n",
      "    \"show_raw\": False\n",
      "}\n",
      "\n",
      "crowd_mistakes = show_data_for_wrong_answers(settings)\n",
      "\n",
      "print \"crowd mistakes\", len(crowd_mistakes)\n",
      "print \"toby mistakes\", len(disagree)\n",
      "\n",
      "print crowd_mistakes\n",
      "print disagree\n",
      "\n",
      "both_wrong = crowd_mistakes & disagree\n",
      "\n",
      "print \"work units toby and the crowd got wrong\", len(both_wrong)\n",
      "print len(disagree - crowd_mistakes)\n",
      "print len(crowd_mistakes - disagree)\n",
      "\n",
      "# print len(true_relation_type)\n",
      "# print\n",
      "# for unit_id in disagree:\n",
      "#     sub_text, obj_text, sentence = get_original_problem(unit_id)\n",
      "#     print \"Gold standard answer: {0}\".format(true_relation_type[str(unit_id)])\n",
      "#     print sentence\n",
      "#     print"
     ],
     "language": "python",
     "metadata": {},
     "outputs": [
      {
       "output_type": "stream",
       "stream": "stdout",
       "text": [
        "Total work units: 49\n",
        "Number of incorrect work units: 18\n",
        "\n",
        "Work units which the crowd response did not match the gold standard answer:\n",
        "\n",
        "Gold standard answer: false\n",
        "  relation_type  conf_score  num_votes  percent_agreement  match\n",
        "0      positive      2.3518          3                  1      0\n",
        "\n",
        "These results suggest that [[FLT3/TKD+]] and FLT3/WT cases should not be differentiated when considering patients for treatment with [[FLT3 inhibitors]].\n",
        "\n",
        "Gold standard answer: false"
       ]
      },
      {
       "output_type": "stream",
       "stream": "stdout",
       "text": [
        "\n",
        "  relation_type  conf_score  num_votes  percent_agreement  match\n",
        "0      negative      1.5826          2                  1      0\n",
        "\n",
        "There was no correlation between mutant level and [[lestaurtinib]] sensitivity for either FLT3/ITD+ or [[FLT3/TKD+]] cells.\n",
        "\n",
        "Gold standard answer: speculative\n",
        "  relation_type  conf_score  num_votes  percent_agreement  match\n",
        "0      positive      1.5518          2                  1      0\n",
        "\n",
        "Taken together, [[LYR-71]] was an efficient inhibitor of IKKbeta, preventing NF-kappaB activation in macrophages, and this mechanism of action could contribute its down-regulatory effect on LPS-induced expression of [[inflammatory cytokines]] at the transcription level.\n",
        "\n",
        "Gold standard answer: false"
       ]
      },
      {
       "output_type": "stream",
       "stream": "stdout",
       "text": [
        "\n",
        "  relation_type  conf_score  num_votes  percent_agreement  match\n",
        "0      positive      1.5518          2                  1      0\n",
        "\n",
        "Maternal use of [[BZD]] and/or HBRA may increase the risk for [[preterm birth]] and low birth weight and cause neonatal symptoms, but does not appear to have a strong teratogenic potential.\n",
        "\n",
        "Gold standard answer: positive\n",
        "  relation_type  conf_score  num_votes  percent_agreement  match\n",
        "0         false      0.7826          1           0.504318      0\n",
        "1   speculative      0.7692          1           0.495682      0\n",
        "\n",
        "An anti-inflammatory and anticarcinogenic potential has been inferred from the development of colitis and [[intestinal cancer]] in [[GPx1]] and GPx2 double knockout mice.\n",
        "\n",
        "Gold standard answer: false"
       ]
      },
      {
       "output_type": "stream",
       "stream": "stdout",
       "text": [
        "\n",
        "  relation_type  conf_score  num_votes  percent_agreement  match\n",
        "0      negative      1.6288          2                  1      0\n",
        "\n",
        "The frequency of PONV did not correlate to the amounts of [[alfentanil]], propofol, postoperative antiemetics consumed, or to female gender, non-smoking status, and history of PONV or [[motion sickness]].\n",
        "\n",
        "Gold standard answer: false\n",
        "  relation_type  conf_score  num_votes  percent_agreement  match\n",
        "0      positive      1.5826          2           0.651597      0\n",
        "1   speculative      0.8462          1           0.348403      0\n",
        "\n",
        "No significant differences were observed between FeSO4+citrate and [[NaFe-EDTA]] fortification, regarding mitigation of [[iron-deficiency anemia]] (IDA) or regarding CRP, growth, infections, or side-effects.\n",
        "\n",
        "Gold standard answer: false"
       ]
      },
      {
       "output_type": "stream",
       "stream": "stdout",
       "text": [
        "\n",
        "  relation_type  conf_score  num_votes  percent_agreement  match\n",
        "0      positive      2.3518          3                  1      0\n",
        "\n",
        "We have developed a small-molecule inhibitor of all three vascular endothelial growth factor ([[VEGF) receptors]] (VEGFR), platelet-derived growth factor receptor, and c-Kit tyrosine kinases, [[pazopanib]] (GW786034), which selectively inhibits VEGF-induced endothelial cell proliferation.\n",
        "\n",
        "Gold standard answer: false\n",
        "  relation_type  conf_score  num_votes  percent_agreement  match\n",
        "0      negative      1.6288          2           0.670619      0\n",
        "1         false      0.8000          1           0.329381      1\n",
        "\n",
        "Compared with both diuretics and contemporary agents, [[amlodipine]] decreases cardiovascular events to a similar or greater extent without evidence for increased [[coronary heart disease]], gastrointestinal bleeding or cancer.\n",
        "\n",
        "Gold standard answer: speculative"
       ]
      },
      {
       "output_type": "stream",
       "stream": "stdout",
       "text": [
        "\n",
        "  relation_type  conf_score  num_votes  percent_agreement  match\n",
        "0         false      1.5692          2           0.667234      0\n",
        "1      positive      0.7826          1           0.332766      0\n",
        "\n",
        "We tested the hypothesis that [[oral beclomethasone dipropionate]] (BDP) would control gastrointestinal graft-versus-host disease ([[GVHD]]) in patients with anorexia, vomiting, and diarrhea.\n",
        "\n",
        "Gold standard answer: false\n",
        "  relation_type  conf_score  num_votes  percent_agreement  match\n",
        "0   speculative      0.7826          1           0.504318      0\n",
        "1      negative      0.7692          1           0.495682      0\n",
        "\n",
        "Whilst FLT3/ITD+ cells are more susceptible to the cytotoxic effects of [[FLT3 inhibitors]] than wild type (WT) cells, the sensitivity of [[FLT3/TKD+]] cells to therapeutic agents is unclear, as is the importance of the mutant level.\n",
        "\n",
        "Gold standard answer: speculative"
       ]
      },
      {
       "output_type": "stream",
       "stream": "stdout",
       "text": [
        "\n",
        "  relation_type  conf_score  num_votes  percent_agreement  match\n",
        "0      positive      1.5826          2                  1      0\n",
        "\n",
        "Taken together, these data suggest that low levels of [[IL-10]] during the disease outcome can drive patients to a chronic and unprotective response that culminates with [[leprosy]].\n",
        "\n",
        "Gold standard answer: false\n",
        "  relation_type  conf_score  num_votes  percent_agreement  match\n",
        "0      positive      1.5826          2           0.672931      0\n",
        "1         false      0.7692          1           0.327069      1\n",
        "\n",
        "Moreover, protective alleles for four disease-associated SNPs in the MHC locus (rs2395029, rs13199524, [[rs12198173]] and rs3093662) were strikingly over-represented among forty-five Long Term [[HIV]] controllers.\n",
        "\n",
        "Gold standard answer: false"
       ]
      },
      {
       "output_type": "stream",
       "stream": "stdout",
       "text": [
        "\n",
        "  relation_type  conf_score  num_votes  percent_agreement  match\n",
        "0      positive      0.7826          1           0.504318      0\n",
        "1      negative      0.7692          1           0.495682      0\n",
        "\n",
        "The pharmacological profile for P2X antagonists to inhibit [[[3H]A-804598]] binding correlated with their ability to block functional activation of [[P2X7 receptors]] (r=0.95, P<0.05).\n",
        "\n",
        "Gold standard answer: speculative\n",
        "  relation_type  conf_score  num_votes  percent_agreement  match\n",
        "0         false      0.8000          1           0.340165      0\n",
        "1   speculative      0.7826          1           0.332766      1\n",
        "2      positive      0.7692          1           0.327069      0\n",
        "\n",
        "The inhibitory effect of [[paeonol]] on ICAM-1 production might be mediated by inhibiting p38, [[ERK]] and NF-kappaB signaling pathways, which are involved in TNF-alpha-induced ICAM-1 production.\n",
        "\n",
        "Gold standard answer: false"
       ]
      },
      {
       "output_type": "stream",
       "stream": "stdout",
       "text": [
        "\n",
        "  relation_type  conf_score  num_votes  percent_agreement  match\n",
        "0   speculative      0.8462          1           0.519524      0\n",
        "1      positive      0.7826          1           0.480476      0\n",
        "\n",
        "A common SNP upstream of the INSIG2 gene, [[rs7566605]] (g.-10,1025G>C, Chr2:118,552,255, NT_022135.15), was reported to be associated with [[obesity]] (Body Mass Index, [BMI]) in a genome-wide association scan using the Framingham Heart Study but has not been reproduced in other cohorts.\n",
        "\n",
        "Gold standard answer: false\n",
        "  relation_type  conf_score  num_votes  percent_agreement  match\n",
        "0      positive      2.3518          3                  1      0\n",
        "\n",
        "Lysophosphatidic acid facilitates proliferation of [[colon cancer]] cells via induction of [[Kr\ufffdppel-like factor 5]].\n",
        "\n",
        "Gold standard answer: negative"
       ]
      },
      {
       "output_type": "stream",
       "stream": "stdout",
       "text": [
        "\n",
        "  relation_type  conf_score  num_votes  percent_agreement  match\n",
        "0      positive      1.5518          2           0.668591      0\n",
        "1      negative      0.7692          1           0.331409      1\n",
        "\n",
        "All three groups showed similar sensitivity to the cytotoxic effects of [[cytarabine]] but FLT3/ITD mutant level was inversely correlated with [[cytarabine]] cytotoxicity (P = 0.04) whereas [[FLT3/TKD]] mutant level had no impact.\n",
        "\n",
        "crowd mistakes 18\n",
        "toby mistakes 16\n",
        "set([692104352, 692104353, 692104347, 692195429, 692104359, 692104329, 692104330, 692183756, 692104333, 692104334, 692175567, 692104364, 692104373, 692104343, 692104344, 692104367, 692104362, 692104351])\n",
        "set([692104352, 692104353, 692104355, 692195429, 692104359, 692104330, 692183756, 692104333, 692104367, 692104373, 692104344, 692104347, 692104348, 692104362, 692175567, 692104351])\n",
        "work units toby and the crowd got wrong 14\n",
        "2\n",
        "4\n"
       ]
      }
     ],
     "prompt_number": 109
    },
    {
     "cell_type": "code",
     "collapsed": false,
     "input": [],
     "language": "python",
     "metadata": {},
     "outputs": []
    }
   ],
   "metadata": {}
  }
 ]
}