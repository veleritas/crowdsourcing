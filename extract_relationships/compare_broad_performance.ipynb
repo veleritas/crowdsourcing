{
 "metadata": {
  "name": "",
  "signature": "sha256:3696023ac86366428875d7b75c5d07bd9984e9a060e96d50e6b866f42584bb97"
 },
 "nbformat": 3,
 "nbformat_minor": 0,
 "worksheets": [
  {
   "cells": [
    {
     "cell_type": "heading",
     "level": 3,
     "metadata": {},
     "source": [
      "Analysis of Crowdflower job #705001: Agreement between crowd, gold standard, and Toby for broad semantic relationships"
     ]
    },
    {
     "cell_type": "code",
     "collapsed": false,
     "input": [
      "import pandas as pd"
     ],
     "language": "python",
     "metadata": {},
     "outputs": [],
     "prompt_number": 1
    },
    {
     "cell_type": "code",
     "collapsed": false,
     "input": [
      "from src.filter_data import filter_data\n",
      "from src.true_relation_type import get_true_relation_type\n",
      "from src.aggregate_votes import aggregate_votes\n",
      "from src.broad_relationships import determine_broad_relationship_matches\n",
      "\n",
      "from src.summary import data_summary\n",
      "from src.get_problem_source import get_original_problem"
     ],
     "language": "python",
     "metadata": {},
     "outputs": [],
     "prompt_number": 2
    },
    {
     "cell_type": "markdown",
     "metadata": {},
     "source": [
      "How did I personally do with respect to the gold standard? As a PhD student, we expect that I will perform better than the crowd at this task..."
     ]
    },
    {
     "cell_type": "code",
     "collapsed": false,
     "input": [
      "def combine_choices(response):\n",
      "    \"\"\"\n",
      "    Combine positive and speculative\n",
      "    \"\"\"\n",
      "    for unit_id, ans in response.items():\n",
      "        if ans in [\"positive\", \"speculative\"]:\n",
      "            response[unit_id] = \"are_linked\"\n",
      "            \n",
      "    return response"
     ],
     "language": "python",
     "metadata": {},
     "outputs": [],
     "prompt_number": 3
    },
    {
     "cell_type": "code",
     "collapsed": false,
     "input": [
      "def get_toby_answers():\n",
      "    loc = \"/home/toby/crowdsourcing/extract_relationships/results/analysis/\"\n",
      "    fname = \"toby_annotations_for_cf_705001.txt\"\n",
      "\n",
      "    data = pd.read_csv(loc + fname, sep = '\\t')\n",
      "    data = data.fillna(\"empty\")\n",
      "    \n",
      "    toby_relations = dict()\n",
      "    deep_sem = dict()\n",
      "    for unit_id, group in data.groupby(\"unit_id\"):\n",
      "        assert len(group[\"toby_association_type\"].unique()) == 1\n",
      "        toby_relations[unit_id] = group[\"toby_association_type\"].iloc[0]\n",
      "        deep_sem[unit_id] = group[\"toby_deep_semantics\"].iloc[0]\n",
      "        \n",
      "    return (toby_relations, deep_sem)"
     ],
     "language": "python",
     "metadata": {},
     "outputs": [],
     "prompt_number": 4
    },
    {
     "cell_type": "code",
     "collapsed": false,
     "input": [
      "def compare_responses(group_a, group_b):\n",
      "    \"\"\"\n",
      "    Broad semantics.\n",
      "    Compares to find the unique work ids that groups a and b agreed upon or disagreed upon.\n",
      "    \"\"\"\n",
      "    agree = set()\n",
      "    disagree = set()\n",
      "    \n",
      "    # there is no way to evaluate work units which only one group worked on\n",
      "    common_units = set(group_a.keys()) & set(group_b.keys())\n",
      "    for unit_id in common_units:\n",
      "        if group_a[unit_id] == group_b[unit_id]:\n",
      "            agree.add(unit_id)\n",
      "        else:\n",
      "            disagree.add(unit_id)\n",
      "            \n",
      "    return (agree, disagree)"
     ],
     "language": "python",
     "metadata": {},
     "outputs": [],
     "prompt_number": 5
    },
    {
     "cell_type": "code",
     "collapsed": false,
     "input": [
      "def get_crowd_choices(gold_std, settings):\n",
      "    \"\"\"\n",
      "    Broad semantics.\n",
      "    Returns a dict with the crowd's top answer for each work unit.\n",
      "    \"\"\"\n",
      "    crowd_data = filter_data(settings)\n",
      "    crowd_results = determine_broad_relationship_matches(gold_std, crowd_data)\n",
      "\n",
      "    ans = dict()\n",
      "    for unit_id, group in crowd_results.groupby(\"unit_id\"):\n",
      "        resp = group[\"relation_type\"].iloc[0]\n",
      "        ans[unit_id] = resp\n",
      "        \n",
      "    return (ans, crowd_results)"
     ],
     "language": "python",
     "metadata": {},
     "outputs": [],
     "prompt_number": 6
    },
    {
     "cell_type": "code",
     "collapsed": false,
     "input": [
      "def summary(unit_id):\n",
      "    print \"unit id:\", unit_id\n",
      "    print \"toby:\", toby_relations[unit_id]\n",
      "    print \"crowd:\", crowd_choices[unit_id]\n",
      "    print \"gold:\", gold_std[unit_id]\n",
      "    \n",
      "    print crowd_results[crowd_results[\"unit_id\"] == unit_id]\n",
      "    \n",
      "    sub_text, obj_text, sentence = get_original_problem(unit_id)\n",
      "    print\n",
      "    print sentence"
     ],
     "language": "python",
     "metadata": {},
     "outputs": [],
     "prompt_number": 7
    },
    {
     "cell_type": "code",
     "collapsed": false,
     "input": [
      "toby_relations, deep_sem = get_toby_answers()\n",
      "gold_std = get_true_relation_type(False)\n",
      "\n",
      "# grab the crowd's results for the normal questions\n",
      "settings = {\n",
      "    \"data_subset\": \"normal\",\n",
      "    \"min_accuracy\": 0.7,\n",
      "    \"max_accuracy\": 1.0,\n",
      "    \"link_type\": \"all\",\n",
      "    \"loc\": \"/home/toby/crowdsourcing/extract_relationships/results/analysis\",\n",
      "    \"fname\": \"705001_full_with_untrusted_and_unfinished.csv\",\n",
      "    \"combine_pos_and_spec\": False\n",
      "}\n",
      "\n",
      "crowd_choices, crowd_results = get_crowd_choices(gold_std, settings)"
     ],
     "language": "python",
     "metadata": {},
     "outputs": [],
     "prompt_number": 8
    },
    {
     "cell_type": "code",
     "collapsed": false,
     "input": [
      "cg_agree, cg_disagree = compare_responses(gold_std, crowd_choices)"
     ],
     "language": "python",
     "metadata": {},
     "outputs": [],
     "prompt_number": 9
    },
    {
     "cell_type": "code",
     "collapsed": false,
     "input": [
      "tg_agree, tg_disagree = compare_responses(gold_std, toby_relations)"
     ],
     "language": "python",
     "metadata": {},
     "outputs": [],
     "prompt_number": 10
    },
    {
     "cell_type": "code",
     "collapsed": false,
     "input": [
      "ct_agree, ct_disagree = compare_responses(crowd_choices, toby_relations)"
     ],
     "language": "python",
     "metadata": {},
     "outputs": [],
     "prompt_number": 11
    },
    {
     "cell_type": "code",
     "collapsed": false,
     "input": [
      "ct_agree"
     ],
     "language": "python",
     "metadata": {},
     "outputs": [
      {
       "metadata": {},
       "output_type": "pyout",
       "prompt_number": 12,
       "text": [
        "{692104330,\n",
        " 692104332,\n",
        " 692104333,\n",
        " 692104335,\n",
        " 692104336,\n",
        " 692104338,\n",
        " 692104339,\n",
        " 692104342,\n",
        " 692104345,\n",
        " 692104346,\n",
        " 692104347,\n",
        " 692104349,\n",
        " 692104351,\n",
        " 692104352,\n",
        " 692104353,\n",
        " 692104354,\n",
        " 692104356,\n",
        " 692104357,\n",
        " 692104358,\n",
        " 692104360,\n",
        " 692104361,\n",
        " 692104362,\n",
        " 692104365,\n",
        " 692104367,\n",
        " 692104368,\n",
        " 692104369,\n",
        " 692104371,\n",
        " 692104373,\n",
        " 692104374,\n",
        " 692104375,\n",
        " 692104376,\n",
        " 692133390,\n",
        " 692133757,\n",
        " 692175567,\n",
        " 692180623,\n",
        " 692181839,\n",
        " 692182020,\n",
        " 692183469,\n",
        " 692183756,\n",
        " 692187667}"
       ]
      }
     ],
     "prompt_number": 12
    },
    {
     "cell_type": "code",
     "collapsed": false,
     "input": [
      "all_agree = cg_agree & tg_agree & ct_agree\n",
      "print len(all_agree)"
     ],
     "language": "python",
     "metadata": {},
     "outputs": [
      {
       "output_type": "stream",
       "stream": "stdout",
       "text": [
        "29\n"
       ]
      }
     ],
     "prompt_number": 13
    },
    {
     "cell_type": "code",
     "collapsed": false,
     "input": [
      "print len(ct_agree - all_agree)"
     ],
     "language": "python",
     "metadata": {},
     "outputs": [
      {
       "output_type": "stream",
       "stream": "stdout",
       "text": [
        "11\n"
       ]
      }
     ],
     "prompt_number": 14
    },
    {
     "cell_type": "code",
     "collapsed": false,
     "input": [
      "print len(cg_agree - all_agree)"
     ],
     "language": "python",
     "metadata": {},
     "outputs": [
      {
       "output_type": "stream",
       "stream": "stdout",
       "text": [
        "2\n"
       ]
      }
     ],
     "prompt_number": 15
    },
    {
     "cell_type": "code",
     "collapsed": false,
     "input": [
      "print len(tg_agree - all_agree)"
     ],
     "language": "python",
     "metadata": {},
     "outputs": [
      {
       "output_type": "stream",
       "stream": "stdout",
       "text": [
        "4\n"
       ]
      }
     ],
     "prompt_number": 16
    },
    {
     "cell_type": "code",
     "collapsed": false,
     "input": [
      "print \"Number of work units for which the crowd and Toby agreed upon the same broad semantics:\"\n",
      "print len(ct_agree)"
     ],
     "language": "python",
     "metadata": {},
     "outputs": [
      {
       "output_type": "stream",
       "stream": "stdout",
       "text": [
        "Number of work units for which the crowd and Toby agreed upon the same broad semantics:\n",
        "40\n"
       ]
      }
     ],
     "prompt_number": 17
    },
    {
     "cell_type": "code",
     "collapsed": false,
     "input": [
      "print \"Number of work units for which the crowd disagreed with Toby for the broad semantics:\"\n",
      "print len(ct_disagree)"
     ],
     "language": "python",
     "metadata": {},
     "outputs": [
      {
       "output_type": "stream",
       "stream": "stdout",
       "text": [
        "Number of work units for which the crowd disagreed with Toby for the broad semantics:\n",
        "9\n"
       ]
      }
     ],
     "prompt_number": 18
    },
    {
     "cell_type": "code",
     "collapsed": false,
     "input": [
      "# for the ones where the crowd disagreed with me, what did we say?\n",
      "for unit_id in ct_disagree:\n",
      "    summary(unit_id)\n",
      "    print"
     ],
     "language": "python",
     "metadata": {},
     "outputs": [
      {
       "output_type": "stream",
       "stream": "stdout",
       "text": [
        "unit id: 692104355\n",
        "toby: positive\n",
        "crowd: false\n",
        "gold: false\n",
        "     unit_id relation_type  conf_score  num_votes  percent_agreement  match\n",
        "0  692104355         false      0.8462          1           0.519524      1\n",
        "1  692104355      positive      0.7826          1           0.480476      0\n",
        "\n",
        "These results suggest that FLT3/TKD+ and [[FLT3/WT]] cases should not be differentiated when considering patients for treatment with [[FLT3 inhibitors]].\n",
        "\n",
        "unit id: 692195429\n",
        "toby: speculative\n",
        "crowd: positive\n",
        "gold: false\n",
        "     unit_id relation_type  conf_score  num_votes  percent_agreement  match\n",
        "0  692195429      positive      1.5518          2                  1      0\n",
        "\n"
       ]
      },
      {
       "output_type": "stream",
       "stream": "stdout",
       "text": [
        "Maternal use of [[BZD]] and/or HBRA may increase the risk for [[preterm birth]] and low birth weight and cause neonatal symptoms, but does not appear to have a strong teratogenic potential.\n",
        "\n",
        "unit id: 692104359\n",
        "toby: speculative\n",
        "crowd: false\n",
        "gold: positive\n",
        "     unit_id relation_type  conf_score  num_votes  percent_agreement  match\n",
        "0  692104359         false      0.7826          1           0.504318      0\n",
        "1  692104359   speculative      0.7692          1           0.495682      0\n",
        "\n",
        "An anti-inflammatory and anticarcinogenic potential has been inferred from the development of colitis and [[intestinal cancer]] in [[GPx1]] and GPx2 double knockout mice.\n",
        "\n",
        "unit id: 692104329\n",
        "toby: false\n",
        "crowd: negative\n",
        "gold: false\n",
        "     unit_id relation_type  conf_score  num_votes  percent_agreement  match\n",
        "0  692104329      negative      1.6288          2                  1      0\n",
        "\n"
       ]
      },
      {
       "output_type": "stream",
       "stream": "stdout",
       "text": [
        "The frequency of PONV did not correlate to the amounts of [[alfentanil]], propofol, postoperative antiemetics consumed, or to female gender, non-smoking status, and history of PONV or [[motion sickness]].\n",
        "\n",
        "unit id: 692104364\n",
        "toby: speculative\n",
        "crowd: positive\n",
        "gold: speculative\n",
        "     unit_id relation_type  conf_score  num_votes  percent_agreement  match\n",
        "0  692104364      positive      1.5826          2                  1      0\n",
        "\n",
        "Taken together, these data suggest that low levels of [[IL-10]] during the disease outcome can drive patients to a chronic and unprotective response that culminates with [[leprosy]].\n",
        "\n",
        "unit id: 692104334\n",
        "toby: speculative\n",
        "crowd: false\n",
        "gold: speculative\n",
        "     unit_id relation_type  conf_score  num_votes  percent_agreement  match\n",
        "0  692104334         false      1.5692          2           0.667234      0\n",
        "1  692104334      positive      0.7826          1           0.332766      0\n",
        "\n"
       ]
      },
      {
       "output_type": "stream",
       "stream": "stdout",
       "text": [
        "We tested the hypothesis that [[oral beclomethasone dipropionate]] (BDP) would control gastrointestinal graft-versus-host disease ([[GVHD]]) in patients with anorexia, vomiting, and diarrhea.\n",
        "\n",
        "unit id: 692104343\n",
        "toby: false\n",
        "crowd: positive\n",
        "gold: false\n",
        "     unit_id relation_type  conf_score  num_votes  percent_agreement  match\n",
        "1  692104343      positive      0.7826          1           0.504318      0\n",
        "0  692104343      negative      0.7692          1           0.495682      0\n",
        "\n",
        "The pharmacological profile for P2X antagonists to inhibit [[[3H]A-804598]] binding correlated with their ability to block functional activation of [[P2X7 receptors]] (r=0.95, P<0.05).\n",
        "\n",
        "unit id: 692104344\n",
        "toby: positive\n",
        "crowd: false\n",
        "gold: speculative\n",
        "     unit_id relation_type  conf_score  num_votes  percent_agreement  match\n",
        "0  692104344         false      0.8000          1           0.340165      0\n",
        "2  692104344   speculative      0.7826          1           0.332766      1\n",
        "1  692104344      positive      0.7692          1           0.327069      0\n",
        "\n"
       ]
      },
      {
       "output_type": "stream",
       "stream": "stdout",
       "text": [
        "The inhibitory effect of [[paeonol]] on ICAM-1 production might be mediated by inhibiting p38, [[ERK]] and NF-kappaB signaling pathways, which are involved in TNF-alpha-induced ICAM-1 production.\n",
        "\n",
        "unit id: 692104348\n",
        "toby: negative\n",
        "crowd: positive\n",
        "gold: positive\n",
        "     unit_id relation_type  conf_score  num_votes  percent_agreement  match\n",
        "1  692104348      positive      1.5384          2           0.662818      1\n",
        "0  692104348         false      0.7826          1           0.337182      0\n",
        "\n",
        "Assessment of 1177 human immunodeficiency virus (HIV) resistance genotypes at an HIV/AIDS clinic showed a decrease in the incidence of the [[K65R mutation]], from 15.2% of isolates during the period 2002-2004 to 2.7% of isolates during the period 2005-2006 (P < .001), despite elevated and stable rates of [[tenofovir]] use.\n",
        "\n"
       ]
      }
     ],
     "prompt_number": 19
    },
    {
     "cell_type": "code",
     "collapsed": false,
     "input": [
      "for unit_id in cg_disagree:\n",
      "    summary(unit_id)\n",
      "    print \"--------------------\\n\""
     ],
     "language": "python",
     "metadata": {},
     "outputs": [
      {
       "output_type": "stream",
       "stream": "stdout",
       "text": [
        "unit id: 692104352\n",
        "toby: positive\n",
        "crowd: positive\n",
        "gold: false\n",
        "     unit_id relation_type  conf_score  num_votes  percent_agreement  match\n",
        "0  692104352      positive      2.3518          3                  1      0\n",
        "\n",
        "These results suggest that [[FLT3/TKD+]] and FLT3/WT cases should not be differentiated when considering patients for treatment with [[FLT3 inhibitors]].\n",
        "--------------------\n",
        "\n",
        "unit id: 692104353\n",
        "toby: negative\n",
        "crowd: negative\n",
        "gold: false\n",
        "     unit_id relation_type  conf_score  num_votes  percent_agreement  match\n",
        "0  692104353      negative      1.5826          2                  1      0\n",
        "\n"
       ]
      },
      {
       "output_type": "stream",
       "stream": "stdout",
       "text": [
        "There was no correlation between mutant level and [[lestaurtinib]] sensitivity for either FLT3/ITD+ or [[FLT3/TKD+]] cells.\n",
        "--------------------\n",
        "\n",
        "unit id: 692183756\n",
        "toby: positive\n",
        "crowd: positive\n",
        "gold: false\n",
        "     unit_id relation_type  conf_score  num_votes  percent_agreement  match\n",
        "0  692183756      positive      2.3518          3                  1      0\n",
        "\n",
        "We have developed a small-molecule inhibitor of all three vascular endothelial growth factor ([[VEGF) receptors]] (VEGFR), platelet-derived growth factor receptor, and c-Kit tyrosine kinases, [[pazopanib]] (GW786034), which selectively inhibits VEGF-induced endothelial cell proliferation.\n",
        "--------------------\n",
        "\n",
        "unit id: 692195429\n",
        "toby: speculative\n",
        "crowd: positive\n",
        "gold: false\n",
        "     unit_id relation_type  conf_score  num_votes  percent_agreement  match\n",
        "0  692195429      positive      1.5518          2                  1      0\n",
        "\n"
       ]
      },
      {
       "output_type": "stream",
       "stream": "stdout",
       "text": [
        "Maternal use of [[BZD]] and/or HBRA may increase the risk for [[preterm birth]] and low birth weight and cause neonatal symptoms, but does not appear to have a strong teratogenic potential.\n",
        "--------------------\n",
        "\n",
        "unit id: 692104359\n",
        "toby: speculative\n",
        "crowd: false\n",
        "gold: positive\n",
        "     unit_id relation_type  conf_score  num_votes  percent_agreement  match\n",
        "0  692104359         false      0.7826          1           0.504318      0\n",
        "1  692104359   speculative      0.7692          1           0.495682      0\n",
        "\n",
        "An anti-inflammatory and anticarcinogenic potential has been inferred from the development of colitis and [[intestinal cancer]] in [[GPx1]] and GPx2 double knockout mice.\n",
        "--------------------\n",
        "\n",
        "unit id: 692104329\n",
        "toby: false\n",
        "crowd: negative\n",
        "gold: false\n",
        "     unit_id relation_type  conf_score  num_votes  percent_agreement  match\n",
        "0  692104329      negative      1.6288          2                  1      0\n",
        "\n"
       ]
      },
      {
       "output_type": "stream",
       "stream": "stdout",
       "text": [
        "The frequency of PONV did not correlate to the amounts of [[alfentanil]], propofol, postoperative antiemetics consumed, or to female gender, non-smoking status, and history of PONV or [[motion sickness]].\n",
        "--------------------\n",
        "\n",
        "unit id: 692104330\n",
        "toby: positive\n",
        "crowd: positive\n",
        "gold: false\n",
        "     unit_id relation_type  conf_score  num_votes  percent_agreement  match\n",
        "0  692104330      positive      1.5826          2           0.651597      0\n",
        "1  692104330   speculative      0.8462          1           0.348403      0\n",
        "\n",
        "No significant differences were observed between FeSO4+citrate and [[NaFe-EDTA]] fortification, regarding mitigation of [[iron-deficiency anemia]] (IDA) or regarding CRP, growth, infections, or side-effects.\n",
        "--------------------\n",
        "\n",
        "unit id: 692104364\n",
        "toby: speculative\n",
        "crowd: positive\n",
        "gold: speculative\n",
        "     unit_id relation_type  conf_score  num_votes  percent_agreement  match\n",
        "0  692104364      positive      1.5826          2                  1      0\n",
        "\n"
       ]
      },
      {
       "output_type": "stream",
       "stream": "stdout",
       "text": [
        "Taken together, these data suggest that low levels of [[IL-10]] during the disease outcome can drive patients to a chronic and unprotective response that culminates with [[leprosy]].\n",
        "--------------------\n",
        "\n",
        "unit id: 692104333\n",
        "toby: negative\n",
        "crowd: negative\n",
        "gold: false\n",
        "     unit_id relation_type  conf_score  num_votes  percent_agreement  match\n",
        "1  692104333      negative      1.6288          2           0.670619      0\n",
        "0  692104333         false      0.8000          1           0.329381      1\n",
        "\n",
        "Compared with both diuretics and contemporary agents, [[amlodipine]] decreases cardiovascular events to a similar or greater extent without evidence for increased [[coronary heart disease]], gastrointestinal bleeding or cancer.\n",
        "--------------------\n",
        "\n",
        "unit id: 692104334\n",
        "toby: speculative\n",
        "crowd: false\n",
        "gold: speculative\n",
        "     unit_id relation_type  conf_score  num_votes  percent_agreement  match\n",
        "0  692104334         false      1.5692          2           0.667234      0\n",
        "1  692104334      positive      0.7826          1           0.332766      0\n",
        "\n"
       ]
      },
      {
       "output_type": "stream",
       "stream": "stdout",
       "text": [
        "We tested the hypothesis that [[oral beclomethasone dipropionate]] (BDP) would control gastrointestinal graft-versus-host disease ([[GVHD]]) in patients with anorexia, vomiting, and diarrhea.\n",
        "--------------------\n",
        "\n",
        "unit id: 692104367\n",
        "toby: speculative\n",
        "crowd: speculative\n",
        "gold: false\n",
        "     unit_id relation_type  conf_score  num_votes  percent_agreement  match\n",
        "1  692104367   speculative      0.8462          1           0.519524      0\n",
        "0  692104367      positive      0.7826          1           0.480476      0\n",
        "\n",
        "A common SNP upstream of the INSIG2 gene, [[rs7566605]] (g.-10,1025G>C, Chr2:118,552,255, NT_022135.15), was reported to be associated with [[obesity]] (Body Mass Index, [BMI]) in a genome-wide association scan using the Framingham Heart Study but has not been reproduced in other cohorts.\n",
        "--------------------\n",
        "\n",
        "unit id: 692104373\n",
        "toby: positive\n",
        "crowd: positive\n",
        "gold: false\n",
        "     unit_id relation_type  conf_score  num_votes  percent_agreement  match\n",
        "1  692104373      positive      1.5826          2           0.672931      0\n",
        "0  692104373         false      0.7692          1           0.327069      1\n",
        "\n"
       ]
      },
      {
       "output_type": "stream",
       "stream": "stdout",
       "text": [
        "Moreover, protective alleles for four disease-associated SNPs in the MHC locus (rs2395029, rs13199524, [[rs12198173]] and rs3093662) were strikingly over-represented among forty-five Long Term [[HIV]] controllers.\n",
        "--------------------\n",
        "\n",
        "unit id: 692104343\n",
        "toby: false\n",
        "crowd: positive\n",
        "gold: false\n",
        "     unit_id relation_type  conf_score  num_votes  percent_agreement  match\n",
        "1  692104343      positive      0.7826          1           0.504318      0\n",
        "0  692104343      negative      0.7692          1           0.495682      0\n",
        "\n",
        "The pharmacological profile for P2X antagonists to inhibit [[[3H]A-804598]] binding correlated with their ability to block functional activation of [[P2X7 receptors]] (r=0.95, P<0.05).\n",
        "--------------------\n",
        "\n",
        "unit id: 692104344\n",
        "toby: positive\n",
        "crowd: false\n",
        "gold: speculative\n",
        "     unit_id relation_type  conf_score  num_votes  percent_agreement  match\n",
        "0  692104344         false      0.8000          1           0.340165      0\n",
        "2  692104344   speculative      0.7826          1           0.332766      1\n",
        "1  692104344      positive      0.7692          1           0.327069      0\n",
        "\n"
       ]
      },
      {
       "output_type": "stream",
       "stream": "stdout",
       "text": [
        "The inhibitory effect of [[paeonol]] on ICAM-1 production might be mediated by inhibiting p38, [[ERK]] and NF-kappaB signaling pathways, which are involved in TNF-alpha-induced ICAM-1 production.\n",
        "--------------------\n",
        "\n",
        "unit id: 692104347\n",
        "toby: positive\n",
        "crowd: positive\n",
        "gold: speculative\n",
        "     unit_id relation_type  conf_score  num_votes  percent_agreement  match\n",
        "0  692104347      positive      1.5518          2                  1      0\n",
        "\n",
        "Taken together, [[LYR-71]] was an efficient inhibitor of IKKbeta, preventing NF-kappaB activation in macrophages, and this mechanism of action could contribute its down-regulatory effect on LPS-induced expression of [[inflammatory cytokines]] at the transcription level.\n",
        "--------------------\n",
        "\n",
        "unit id: 692104362\n",
        "toby: positive\n",
        "crowd: positive\n",
        "gold: false\n",
        "     unit_id relation_type  conf_score  num_votes  percent_agreement  match\n",
        "0  692104362      positive      2.3518          3                  1      0\n",
        "\n"
       ]
      },
      {
       "output_type": "stream",
       "stream": "stdout",
       "text": [
        "Lysophosphatidic acid facilitates proliferation of [[colon cancer]] cells via induction of [[Kr\ufffdppel-like factor 5]].\n",
        "--------------------\n",
        "\n",
        "unit id: 692175567\n",
        "toby: speculative\n",
        "crowd: speculative\n",
        "gold: false\n",
        "     unit_id relation_type  conf_score  num_votes  percent_agreement  match\n",
        "1  692175567   speculative      0.7826          1           0.504318      0\n",
        "0  692175567      negative      0.7692          1           0.495682      0\n",
        "\n",
        "Whilst FLT3/ITD+ cells are more susceptible to the cytotoxic effects of [[FLT3 inhibitors]] than wild type (WT) cells, the sensitivity of [[FLT3/TKD+]] cells to therapeutic agents is unclear, as is the importance of the mutant level.\n",
        "--------------------\n",
        "\n",
        "unit id: 692104351\n",
        "toby: positive\n",
        "crowd: positive\n",
        "gold: negative\n",
        "     unit_id relation_type  conf_score  num_votes  percent_agreement  match\n",
        "1  692104351      positive      1.5518          2           0.668591      0\n",
        "0  692104351      negative      0.7692          1           0.331409      1\n",
        "\n"
       ]
      },
      {
       "output_type": "stream",
       "stream": "stdout",
       "text": [
        "All three groups showed similar sensitivity to the cytotoxic effects of [[cytarabine]] but FLT3/ITD mutant level was inversely correlated with [[cytarabine]] cytotoxicity (P = 0.04) whereas [[FLT3/TKD]] mutant level had no impact.\n",
        "--------------------\n",
        "\n"
       ]
      }
     ],
     "prompt_number": 36
    },
    {
     "cell_type": "code",
     "collapsed": false,
     "input": [
      "tg_only = tg_agree - all_agree\n",
      "print len(tg_only)\n",
      "for unit_id in tg_only:\n",
      "    summary(unit_id)\n",
      "    print"
     ],
     "language": "python",
     "metadata": {},
     "outputs": [
      {
       "output_type": "stream",
       "stream": "stdout",
       "text": [
        "4\n",
        "unit id: 692104329\n",
        "toby: false\n",
        "crowd: negative\n",
        "gold: false\n",
        "     unit_id relation_type  conf_score  num_votes  percent_agreement  match\n",
        "0  692104329      negative      1.6288          2                  1      0\n",
        "\n",
        "The frequency of PONV did not correlate to the amounts of [[alfentanil]], propofol, postoperative antiemetics consumed, or to female gender, non-smoking status, and history of PONV or [[motion sickness]].\n",
        "\n",
        "unit id: 692104364\n",
        "toby: speculative\n",
        "crowd: positive\n",
        "gold: speculative\n",
        "     unit_id relation_type  conf_score  num_votes  percent_agreement  match\n",
        "0  692104364      positive      1.5826          2                  1      0\n",
        "\n"
       ]
      },
      {
       "output_type": "stream",
       "stream": "stdout",
       "text": [
        "Taken together, these data suggest that low levels of [[IL-10]] during the disease outcome can drive patients to a chronic and unprotective response that culminates with [[leprosy]].\n",
        "\n",
        "unit id: 692104334\n",
        "toby: speculative\n",
        "crowd: false\n",
        "gold: speculative\n",
        "     unit_id relation_type  conf_score  num_votes  percent_agreement  match\n",
        "0  692104334         false      1.5692          2           0.667234      0\n",
        "1  692104334      positive      0.7826          1           0.332766      0\n",
        "\n",
        "We tested the hypothesis that [[oral beclomethasone dipropionate]] (BDP) would control gastrointestinal graft-versus-host disease ([[GVHD]]) in patients with anorexia, vomiting, and diarrhea.\n",
        "\n",
        "unit id: 692104343\n",
        "toby: false\n",
        "crowd: positive\n",
        "gold: false\n",
        "     unit_id relation_type  conf_score  num_votes  percent_agreement  match\n",
        "1  692104343      positive      0.7826          1           0.504318      0\n",
        "0  692104343      negative      0.7692          1           0.495682      0\n",
        "\n"
       ]
      },
      {
       "output_type": "stream",
       "stream": "stdout",
       "text": [
        "The pharmacological profile for P2X antagonists to inhibit [[[3H]A-804598]] binding correlated with their ability to block functional activation of [[P2X7 receptors]] (r=0.95, P<0.05).\n",
        "\n"
       ]
      }
     ],
     "prompt_number": 20
    },
    {
     "cell_type": "code",
     "collapsed": false,
     "input": [
      "cg_only = cg_agree - all_agree\n",
      "print len(cg_only)\n",
      "for unit_id in cg_only:\n",
      "    summary(unit_id)\n",
      "    print"
     ],
     "language": "python",
     "metadata": {},
     "outputs": [
      {
       "output_type": "stream",
       "stream": "stdout",
       "text": [
        "2\n",
        "unit id: 692104355\n",
        "toby: positive\n",
        "crowd: false\n",
        "gold: false\n",
        "     unit_id relation_type  conf_score  num_votes  percent_agreement  match\n",
        "0  692104355         false      0.8462          1           0.519524      1\n",
        "1  692104355      positive      0.7826          1           0.480476      0\n",
        "\n",
        "These results suggest that FLT3/TKD+ and [[FLT3/WT]] cases should not be differentiated when considering patients for treatment with [[FLT3 inhibitors]].\n",
        "\n",
        "unit id: 692104348\n",
        "toby: negative\n",
        "crowd: positive\n",
        "gold: positive\n",
        "     unit_id relation_type  conf_score  num_votes  percent_agreement  match\n",
        "1  692104348      positive      1.5384          2           0.662818      1\n",
        "0  692104348         false      0.7826          1           0.337182      0\n",
        "\n"
       ]
      },
      {
       "output_type": "stream",
       "stream": "stdout",
       "text": [
        "Assessment of 1177 human immunodeficiency virus (HIV) resistance genotypes at an HIV/AIDS clinic showed a decrease in the incidence of the [[K65R mutation]], from 15.2% of isolates during the period 2002-2004 to 2.7% of isolates during the period 2005-2006 (P < .001), despite elevated and stable rates of [[tenofovir]] use.\n",
        "\n"
       ]
      }
     ],
     "prompt_number": 21
    },
    {
     "cell_type": "code",
     "collapsed": false,
     "input": [
      "all_work = set(toby_relations.keys())"
     ],
     "language": "python",
     "metadata": {},
     "outputs": [],
     "prompt_number": 22
    },
    {
     "cell_type": "markdown",
     "metadata": {},
     "source": [
      "These are the two work units for which everyone had different answers:"
     ]
    },
    {
     "cell_type": "code",
     "collapsed": false,
     "input": [
      "all_diff = all_work - all_agree - cg_agree - ct_agree - tg_agree\n",
      "for unit_id in all_diff:\n",
      "    summary(unit_id)\n",
      "    print"
     ],
     "language": "python",
     "metadata": {},
     "outputs": [
      {
       "output_type": "stream",
       "stream": "stdout",
       "text": [
        "unit id: 692104344\n",
        "toby: positive\n",
        "crowd: false\n",
        "gold: speculative\n",
        "     unit_id relation_type  conf_score  num_votes  percent_agreement  match\n",
        "0  692104344         false      0.8000          1           0.340165      0\n",
        "2  692104344   speculative      0.7826          1           0.332766      1\n",
        "1  692104344      positive      0.7692          1           0.327069      0\n",
        "\n",
        "The inhibitory effect of [[paeonol]] on ICAM-1 production might be mediated by inhibiting p38, [[ERK]] and NF-kappaB signaling pathways, which are involved in TNF-alpha-induced ICAM-1 production.\n",
        "\n",
        "unit id: 692195429\n",
        "toby: speculative\n",
        "crowd: positive\n",
        "gold: false\n",
        "     unit_id relation_type  conf_score  num_votes  percent_agreement  match\n",
        "0  692195429      positive      1.5518          2                  1      0\n",
        "\n"
       ]
      },
      {
       "output_type": "stream",
       "stream": "stdout",
       "text": [
        "Maternal use of [[BZD]] and/or HBRA may increase the risk for [[preterm birth]] and low birth weight and cause neonatal symptoms, but does not appear to have a strong teratogenic potential.\n",
        "\n",
        "unit id: 692104359\n",
        "toby: speculative\n",
        "crowd: false\n",
        "gold: positive\n",
        "     unit_id relation_type  conf_score  num_votes  percent_agreement  match\n",
        "0  692104359         false      0.7826          1           0.504318      0\n",
        "1  692104359   speculative      0.7692          1           0.495682      0\n",
        "\n",
        "An anti-inflammatory and anticarcinogenic potential has been inferred from the development of colitis and [[intestinal cancer]] in [[GPx1]] and GPx2 double knockout mice.\n",
        "\n"
       ]
      }
     ],
     "prompt_number": 23
    },
    {
     "cell_type": "markdown",
     "metadata": {},
     "source": [
      "Seems like the crowd got question 692104344 wrong. The only thing up for debate is whether the fact that the potential was \"inferred\" makes this claim positive or speculative.\n",
      "\n",
      "For 692195429 it seems like the gold standard is wrong. It also seems like the crowd took \"may\" to mean positive, which is not too bad of a choice.\n",
      "\n",
      "For 692104359, it's unclear whether this should be positive or speculative. The sentence says that the potential to cause intestinal cancer was \"inferred\" from the knockout studies."
     ]
    },
    {
     "cell_type": "markdown",
     "metadata": {},
     "source": [
      "Here are the work units for which I agreed with the crowd, but for which we both disagreed with the gold standard. If there are areas where the gold standard is potentially wrong, this is where we will most likely find it."
     ]
    },
    {
     "cell_type": "code",
     "collapsed": false,
     "input": [
      "ct_no_gold = ct_agree - all_agree\n",
      "print len(ct_no_gold)\n",
      "for unit_id in ct_no_gold:\n",
      "    summary(unit_id)\n",
      "    print"
     ],
     "language": "python",
     "metadata": {},
     "outputs": [
      {
       "output_type": "stream",
       "stream": "stdout",
       "text": [
        "11\n",
        "unit id: 692104352\n",
        "toby: positive\n",
        "crowd: positive\n",
        "gold: false\n",
        "     unit_id relation_type  conf_score  num_votes  percent_agreement  match\n",
        "0  692104352      positive      2.3518          3                  1      0\n",
        "\n",
        "These results suggest that [[FLT3/TKD+]] and FLT3/WT cases should not be differentiated when considering patients for treatment with [[FLT3 inhibitors]].\n",
        "\n",
        "unit id: 692104353\n",
        "toby: negative\n",
        "crowd: negative\n",
        "gold: false\n",
        "     unit_id relation_type  conf_score  num_votes  percent_agreement  match\n",
        "0  692104353      negative      1.5826          2                  1      0\n",
        "\n"
       ]
      },
      {
       "output_type": "stream",
       "stream": "stdout",
       "text": [
        "There was no correlation between mutant level and [[lestaurtinib]] sensitivity for either FLT3/ITD+ or [[FLT3/TKD+]] cells.\n",
        "\n",
        "unit id: 692104330\n",
        "toby: positive\n",
        "crowd: positive\n",
        "gold: false\n",
        "     unit_id relation_type  conf_score  num_votes  percent_agreement  match\n",
        "0  692104330      positive      1.5826          2           0.651597      0\n",
        "1  692104330   speculative      0.8462          1           0.348403      0\n",
        "\n",
        "No significant differences were observed between FeSO4+citrate and [[NaFe-EDTA]] fortification, regarding mitigation of [[iron-deficiency anemia]] (IDA) or regarding CRP, growth, infections, or side-effects.\n",
        "\n",
        "unit id: 692183756\n",
        "toby: positive\n",
        "crowd: positive\n",
        "gold: false\n",
        "     unit_id relation_type  conf_score  num_votes  percent_agreement  match\n",
        "0  692183756      positive      2.3518          3                  1      0\n",
        "\n"
       ]
      },
      {
       "output_type": "stream",
       "stream": "stdout",
       "text": [
        "We have developed a small-molecule inhibitor of all three vascular endothelial growth factor ([[VEGF) receptors]] (VEGFR), platelet-derived growth factor receptor, and c-Kit tyrosine kinases, [[pazopanib]] (GW786034), which selectively inhibits VEGF-induced endothelial cell proliferation.\n",
        "\n",
        "unit id: 692104333\n",
        "toby: negative\n",
        "crowd: negative\n",
        "gold: false\n",
        "     unit_id relation_type  conf_score  num_votes  percent_agreement  match\n",
        "1  692104333      negative      1.6288          2           0.670619      0\n",
        "0  692104333         false      0.8000          1           0.329381      1\n",
        "\n",
        "Compared with both diuretics and contemporary agents, [[amlodipine]] decreases cardiovascular events to a similar or greater extent without evidence for increased [[coronary heart disease]], gastrointestinal bleeding or cancer.\n",
        "\n",
        "unit id: 692104367\n",
        "toby: speculative\n",
        "crowd: speculative\n",
        "gold: false\n",
        "     unit_id relation_type  conf_score  num_votes  percent_agreement  match\n",
        "1  692104367   speculative      0.8462          1           0.519524      0\n",
        "0  692104367      positive      0.7826          1           0.480476      0\n",
        "\n"
       ]
      },
      {
       "output_type": "stream",
       "stream": "stdout",
       "text": [
        "A common SNP upstream of the INSIG2 gene, [[rs7566605]] (g.-10,1025G>C, Chr2:118,552,255, NT_022135.15), was reported to be associated with [[obesity]] (Body Mass Index, [BMI]) in a genome-wide association scan using the Framingham Heart Study but has not been reproduced in other cohorts.\n",
        "\n",
        "unit id: 692104373\n",
        "toby: positive\n",
        "crowd: positive\n",
        "gold: false\n",
        "     unit_id relation_type  conf_score  num_votes  percent_agreement  match\n",
        "1  692104373      positive      1.5826          2           0.672931      0\n",
        "0  692104373         false      0.7692          1           0.327069      1\n",
        "\n",
        "Moreover, protective alleles for four disease-associated SNPs in the MHC locus (rs2395029, rs13199524, [[rs12198173]] and rs3093662) were strikingly over-represented among forty-five Long Term [[HIV]] controllers.\n",
        "\n",
        "unit id: 692104347\n",
        "toby: positive\n",
        "crowd: positive\n",
        "gold: speculative\n",
        "     unit_id relation_type  conf_score  num_votes  percent_agreement  match\n",
        "0  692104347      positive      1.5518          2                  1      0\n",
        "\n"
       ]
      },
      {
       "output_type": "stream",
       "stream": "stdout",
       "text": [
        "Taken together, [[LYR-71]] was an efficient inhibitor of IKKbeta, preventing NF-kappaB activation in macrophages, and this mechanism of action could contribute its down-regulatory effect on LPS-induced expression of [[inflammatory cytokines]] at the transcription level.\n",
        "\n",
        "unit id: 692104362\n",
        "toby: positive\n",
        "crowd: positive\n",
        "gold: false\n",
        "     unit_id relation_type  conf_score  num_votes  percent_agreement  match\n",
        "0  692104362      positive      2.3518          3                  1      0\n",
        "\n",
        "Lysophosphatidic acid facilitates proliferation of [[colon cancer]] cells via induction of [[Kr\ufffdppel-like factor 5]].\n",
        "\n",
        "unit id: 692175567\n",
        "toby: speculative\n",
        "crowd: speculative\n",
        "gold: false\n",
        "     unit_id relation_type  conf_score  num_votes  percent_agreement  match\n",
        "1  692175567   speculative      0.7826          1           0.504318      0\n",
        "0  692175567      negative      0.7692          1           0.495682      0\n",
        "\n"
       ]
      },
      {
       "output_type": "stream",
       "stream": "stdout",
       "text": [
        "Whilst FLT3/ITD+ cells are more susceptible to the cytotoxic effects of [[FLT3 inhibitors]] than wild type (WT) cells, the sensitivity of [[FLT3/TKD+]] cells to therapeutic agents is unclear, as is the importance of the mutant level.\n",
        "\n",
        "unit id: 692104351\n",
        "toby: positive\n",
        "crowd: positive\n",
        "gold: negative\n",
        "     unit_id relation_type  conf_score  num_votes  percent_agreement  match\n",
        "1  692104351      positive      1.5518          2           0.668591      0\n",
        "0  692104351      negative      0.7692          1           0.331409      1\n",
        "\n",
        "All three groups showed similar sensitivity to the cytotoxic effects of [[cytarabine]] but FLT3/ITD mutant level was inversely correlated with [[cytarabine]] cytotoxicity (P = 0.04) whereas [[FLT3/TKD]] mutant level had no impact.\n",
        "\n"
       ]
      }
     ],
     "prompt_number": 24
    },
    {
     "cell_type": "heading",
     "level": 3,
     "metadata": {},
     "source": [
      "We saw that the positive/speculative differentiation is lowering the agreement levels. Maybe if we combine the two, then the agreement will be much higher."
     ]
    },
    {
     "cell_type": "code",
     "collapsed": false,
     "input": [
      "comb_toby_relations, deep_sem = get_toby_answers()\n",
      "comb_toby_relations = combine_choices(comb_toby_relations)\n",
      "\n",
      "comb_gold_std = get_true_relation_type(True)\n",
      "\n",
      "# grab the crowd's results for the normal questions\n",
      "settings = {\n",
      "    \"data_subset\": \"normal\",\n",
      "    \"min_accuracy\": 0.7,\n",
      "    \"max_accuracy\": 1.0,\n",
      "    \"link_type\": \"all\",\n",
      "    \"loc\": \"/home/toby/crowdsourcing/extract_relationships/results/analysis\",\n",
      "    \"fname\": \"705001_full_with_untrusted_and_unfinished.csv\",\n",
      "    \"combine_pos_and_spec\": True\n",
      "}\n",
      "\n",
      "comb_crowd_choices, comb_crowd_results = get_crowd_choices(gold_std, settings)"
     ],
     "language": "python",
     "metadata": {},
     "outputs": [
      {
       "output_type": "stream",
       "stream": "stderr",
       "text": [
        "/home/toby/anaconda/lib/python2.7/site-packages/pandas/core/indexing.py:389: SettingWithCopyWarning: A value is trying to be set on a copy of a slice from a DataFrame.\n",
        "Try using .loc[row_index,col_indexer] = value instead\n",
        "  self.obj[item] = s\n"
       ]
      }
     ],
     "prompt_number": 25
    },
    {
     "cell_type": "code",
     "collapsed": false,
     "input": [
      "c_ct_agree, c_ct_disagree = compare_responses(comb_toby_relations, comb_crowd_choices)"
     ],
     "language": "python",
     "metadata": {},
     "outputs": [],
     "prompt_number": 26
    },
    {
     "cell_type": "code",
     "collapsed": false,
     "input": [
      "c_cg_agree, c_cg_disagree = compare_responses(comb_crowd_choices, comb_gold_std)"
     ],
     "language": "python",
     "metadata": {},
     "outputs": [],
     "prompt_number": 27
    },
    {
     "cell_type": "code",
     "collapsed": false,
     "input": [
      "c_tg_agree, c_tg_disagree = compare_responses(comb_gold_std, comb_toby_relations)"
     ],
     "language": "python",
     "metadata": {},
     "outputs": [],
     "prompt_number": 28
    },
    {
     "cell_type": "code",
     "collapsed": false,
     "input": [
      "c_all_agree = c_ct_agree & c_cg_agree & c_tg_agree"
     ],
     "language": "python",
     "metadata": {},
     "outputs": [],
     "prompt_number": 29
    },
    {
     "cell_type": "code",
     "collapsed": false,
     "input": [
      "c_ct_only = c_ct_agree - c_all_agree"
     ],
     "language": "python",
     "metadata": {},
     "outputs": [],
     "prompt_number": 30
    },
    {
     "cell_type": "code",
     "collapsed": false,
     "input": [
      "c_tg_only = c_tg_agree - c_all_agree"
     ],
     "language": "python",
     "metadata": {},
     "outputs": [],
     "prompt_number": 31
    },
    {
     "cell_type": "code",
     "collapsed": false,
     "input": [
      "c_cg_only = c_cg_agree - c_all_agree"
     ],
     "language": "python",
     "metadata": {},
     "outputs": [],
     "prompt_number": 32
    },
    {
     "cell_type": "code",
     "collapsed": false,
     "input": [
      "for unit_id in ct_agree - all_agree:\n",
      "    summary(unit_id)\n",
      "    print"
     ],
     "language": "python",
     "metadata": {},
     "outputs": [
      {
       "output_type": "stream",
       "stream": "stdout",
       "text": [
        "unit id: 692104352\n",
        "toby: positive\n",
        "crowd: positive\n",
        "gold: false\n",
        "     unit_id relation_type  conf_score  num_votes  percent_agreement  match\n",
        "0  692104352      positive      2.3518          3                  1      0\n",
        "\n",
        "These results suggest that [[FLT3/TKD+]] and FLT3/WT cases should not be differentiated when considering patients for treatment with [[FLT3 inhibitors]].\n",
        "\n",
        "unit id: 692104353\n",
        "toby: negative\n",
        "crowd: negative\n",
        "gold: false\n",
        "     unit_id relation_type  conf_score  num_votes  percent_agreement  match\n",
        "0  692104353      negative      1.5826          2                  1      0\n",
        "\n"
       ]
      },
      {
       "output_type": "stream",
       "stream": "stdout",
       "text": [
        "There was no correlation between mutant level and [[lestaurtinib]] sensitivity for either FLT3/ITD+ or [[FLT3/TKD+]] cells.\n",
        "\n",
        "unit id: 692104330\n",
        "toby: positive\n",
        "crowd: positive\n",
        "gold: false\n",
        "     unit_id relation_type  conf_score  num_votes  percent_agreement  match\n",
        "0  692104330      positive      1.5826          2           0.651597      0\n",
        "1  692104330   speculative      0.8462          1           0.348403      0\n",
        "\n",
        "No significant differences were observed between FeSO4+citrate and [[NaFe-EDTA]] fortification, regarding mitigation of [[iron-deficiency anemia]] (IDA) or regarding CRP, growth, infections, or side-effects.\n",
        "\n",
        "unit id: 692183756\n",
        "toby: positive\n",
        "crowd: positive\n",
        "gold: false\n",
        "     unit_id relation_type  conf_score  num_votes  percent_agreement  match\n",
        "0  692183756      positive      2.3518          3                  1      0\n",
        "\n"
       ]
      },
      {
       "output_type": "stream",
       "stream": "stdout",
       "text": [
        "We have developed a small-molecule inhibitor of all three vascular endothelial growth factor ([[VEGF) receptors]] (VEGFR), platelet-derived growth factor receptor, and c-Kit tyrosine kinases, [[pazopanib]] (GW786034), which selectively inhibits VEGF-induced endothelial cell proliferation.\n",
        "\n",
        "unit id: 692104333\n",
        "toby: negative\n",
        "crowd: negative\n",
        "gold: false\n",
        "     unit_id relation_type  conf_score  num_votes  percent_agreement  match\n",
        "1  692104333      negative      1.6288          2           0.670619      0\n",
        "0  692104333         false      0.8000          1           0.329381      1\n",
        "\n",
        "Compared with both diuretics and contemporary agents, [[amlodipine]] decreases cardiovascular events to a similar or greater extent without evidence for increased [[coronary heart disease]], gastrointestinal bleeding or cancer.\n",
        "\n",
        "unit id: 692104367\n",
        "toby: speculative\n",
        "crowd: speculative\n",
        "gold: false\n",
        "     unit_id relation_type  conf_score  num_votes  percent_agreement  match\n",
        "1  692104367   speculative      0.8462          1           0.519524      0\n",
        "0  692104367      positive      0.7826          1           0.480476      0\n",
        "\n"
       ]
      },
      {
       "output_type": "stream",
       "stream": "stdout",
       "text": [
        "A common SNP upstream of the INSIG2 gene, [[rs7566605]] (g.-10,1025G>C, Chr2:118,552,255, NT_022135.15), was reported to be associated with [[obesity]] (Body Mass Index, [BMI]) in a genome-wide association scan using the Framingham Heart Study but has not been reproduced in other cohorts.\n",
        "\n",
        "unit id: 692104373\n",
        "toby: positive\n",
        "crowd: positive\n",
        "gold: false\n",
        "     unit_id relation_type  conf_score  num_votes  percent_agreement  match\n",
        "1  692104373      positive      1.5826          2           0.672931      0\n",
        "0  692104373         false      0.7692          1           0.327069      1\n",
        "\n",
        "Moreover, protective alleles for four disease-associated SNPs in the MHC locus (rs2395029, rs13199524, [[rs12198173]] and rs3093662) were strikingly over-represented among forty-five Long Term [[HIV]] controllers.\n",
        "\n",
        "unit id: 692104347\n",
        "toby: positive\n",
        "crowd: positive\n",
        "gold: speculative\n",
        "     unit_id relation_type  conf_score  num_votes  percent_agreement  match\n",
        "0  692104347      positive      1.5518          2                  1      0\n",
        "\n"
       ]
      },
      {
       "output_type": "stream",
       "stream": "stdout",
       "text": [
        "Taken together, [[LYR-71]] was an efficient inhibitor of IKKbeta, preventing NF-kappaB activation in macrophages, and this mechanism of action could contribute its down-regulatory effect on LPS-induced expression of [[inflammatory cytokines]] at the transcription level.\n",
        "\n",
        "unit id: 692104362\n",
        "toby: positive\n",
        "crowd: positive\n",
        "gold: false\n",
        "     unit_id relation_type  conf_score  num_votes  percent_agreement  match\n",
        "0  692104362      positive      2.3518          3                  1      0\n",
        "\n",
        "Lysophosphatidic acid facilitates proliferation of [[colon cancer]] cells via induction of [[Kr\ufffdppel-like factor 5]].\n",
        "\n",
        "unit id: 692175567\n",
        "toby: speculative\n",
        "crowd: speculative\n",
        "gold: false\n",
        "     unit_id relation_type  conf_score  num_votes  percent_agreement  match\n",
        "1  692175567   speculative      0.7826          1           0.504318      0\n",
        "0  692175567      negative      0.7692          1           0.495682      0\n",
        "\n"
       ]
      },
      {
       "output_type": "stream",
       "stream": "stdout",
       "text": [
        "Whilst FLT3/ITD+ cells are more susceptible to the cytotoxic effects of [[FLT3 inhibitors]] than wild type (WT) cells, the sensitivity of [[FLT3/TKD+]] cells to therapeutic agents is unclear, as is the importance of the mutant level.\n",
        "\n",
        "unit id: 692104351\n",
        "toby: positive\n",
        "crowd: positive\n",
        "gold: negative\n",
        "     unit_id relation_type  conf_score  num_votes  percent_agreement  match\n",
        "1  692104351      positive      1.5518          2           0.668591      0\n",
        "0  692104351      negative      0.7692          1           0.331409      1\n",
        "\n",
        "All three groups showed similar sensitivity to the cytotoxic effects of [[cytarabine]] but FLT3/ITD mutant level was inversely correlated with [[cytarabine]] cytotoxicity (P = 0.04) whereas [[FLT3/TKD]] mutant level had no impact.\n",
        "\n"
       ]
      }
     ],
     "prompt_number": 33
    },
    {
     "cell_type": "code",
     "collapsed": false,
     "input": [
      "for unit_id in cg_disagree:\n",
      "    summary(unit_id)\n",
      "    print"
     ],
     "language": "python",
     "metadata": {},
     "outputs": [
      {
       "output_type": "stream",
       "stream": "stdout",
       "text": [
        "unit id: 692104352\n",
        "toby: positive\n",
        "crowd: positive\n",
        "gold: false\n",
        "     unit_id relation_type  conf_score  num_votes  percent_agreement  match\n",
        "0  692104352      positive      2.3518          3                  1      0\n",
        "\n",
        "These results suggest that [[FLT3/TKD+]] and FLT3/WT cases should not be differentiated when considering patients for treatment with [[FLT3 inhibitors]].\n",
        "\n",
        "unit id: 692104353\n",
        "toby: negative\n",
        "crowd: negative\n",
        "gold: false\n",
        "     unit_id relation_type  conf_score  num_votes  percent_agreement  match\n",
        "0  692104353      negative      1.5826          2                  1      0\n",
        "\n"
       ]
      },
      {
       "output_type": "stream",
       "stream": "stdout",
       "text": [
        "There was no correlation between mutant level and [[lestaurtinib]] sensitivity for either FLT3/ITD+ or [[FLT3/TKD+]] cells.\n",
        "\n",
        "unit id: 692183756\n",
        "toby: positive\n",
        "crowd: positive\n",
        "gold: false\n",
        "     unit_id relation_type  conf_score  num_votes  percent_agreement  match\n",
        "0  692183756      positive      2.3518          3                  1      0\n",
        "\n",
        "We have developed a small-molecule inhibitor of all three vascular endothelial growth factor ([[VEGF) receptors]] (VEGFR), platelet-derived growth factor receptor, and c-Kit tyrosine kinases, [[pazopanib]] (GW786034), which selectively inhibits VEGF-induced endothelial cell proliferation.\n",
        "\n",
        "unit id: 692195429\n",
        "toby: speculative\n",
        "crowd: positive\n",
        "gold: false\n",
        "     unit_id relation_type  conf_score  num_votes  percent_agreement  match\n",
        "0  692195429      positive      1.5518          2                  1      0\n",
        "\n"
       ]
      },
      {
       "output_type": "stream",
       "stream": "stdout",
       "text": [
        "Maternal use of [[BZD]] and/or HBRA may increase the risk for [[preterm birth]] and low birth weight and cause neonatal symptoms, but does not appear to have a strong teratogenic potential.\n",
        "\n",
        "unit id: 692104359\n",
        "toby: speculative\n",
        "crowd: false\n",
        "gold: positive\n",
        "     unit_id relation_type  conf_score  num_votes  percent_agreement  match\n",
        "0  692104359         false      0.7826          1           0.504318      0\n",
        "1  692104359   speculative      0.7692          1           0.495682      0\n",
        "\n",
        "An anti-inflammatory and anticarcinogenic potential has been inferred from the development of colitis and [[intestinal cancer]] in [[GPx1]] and GPx2 double knockout mice.\n",
        "\n",
        "unit id: 692104329\n",
        "toby: false\n",
        "crowd: negative\n",
        "gold: false\n",
        "     unit_id relation_type  conf_score  num_votes  percent_agreement  match\n",
        "0  692104329      negative      1.6288          2                  1      0\n",
        "\n"
       ]
      },
      {
       "output_type": "stream",
       "stream": "stdout",
       "text": [
        "The frequency of PONV did not correlate to the amounts of [[alfentanil]], propofol, postoperative antiemetics consumed, or to female gender, non-smoking status, and history of PONV or [[motion sickness]].\n",
        "\n",
        "unit id: 692104330\n",
        "toby: positive\n",
        "crowd: positive\n",
        "gold: false\n",
        "     unit_id relation_type  conf_score  num_votes  percent_agreement  match\n",
        "0  692104330      positive      1.5826          2           0.651597      0\n",
        "1  692104330   speculative      0.8462          1           0.348403      0\n",
        "\n",
        "No significant differences were observed between FeSO4+citrate and [[NaFe-EDTA]] fortification, regarding mitigation of [[iron-deficiency anemia]] (IDA) or regarding CRP, growth, infections, or side-effects.\n",
        "\n",
        "unit id: 692104364\n",
        "toby: speculative\n",
        "crowd: positive\n",
        "gold: speculative\n",
        "     unit_id relation_type  conf_score  num_votes  percent_agreement  match\n",
        "0  692104364      positive      1.5826          2                  1      0\n",
        "\n"
       ]
      },
      {
       "output_type": "stream",
       "stream": "stdout",
       "text": [
        "Taken together, these data suggest that low levels of [[IL-10]] during the disease outcome can drive patients to a chronic and unprotective response that culminates with [[leprosy]].\n",
        "\n",
        "unit id: 692104333\n",
        "toby: negative\n",
        "crowd: negative\n",
        "gold: false\n",
        "     unit_id relation_type  conf_score  num_votes  percent_agreement  match\n",
        "1  692104333      negative      1.6288          2           0.670619      0\n",
        "0  692104333         false      0.8000          1           0.329381      1\n",
        "\n",
        "Compared with both diuretics and contemporary agents, [[amlodipine]] decreases cardiovascular events to a similar or greater extent without evidence for increased [[coronary heart disease]], gastrointestinal bleeding or cancer.\n",
        "\n",
        "unit id: 692104334\n",
        "toby: speculative\n",
        "crowd: false\n",
        "gold: speculative\n",
        "     unit_id relation_type  conf_score  num_votes  percent_agreement  match\n",
        "0  692104334         false      1.5692          2           0.667234      0\n",
        "1  692104334      positive      0.7826          1           0.332766      0\n",
        "\n"
       ]
      },
      {
       "output_type": "stream",
       "stream": "stdout",
       "text": [
        "We tested the hypothesis that [[oral beclomethasone dipropionate]] (BDP) would control gastrointestinal graft-versus-host disease ([[GVHD]]) in patients with anorexia, vomiting, and diarrhea.\n",
        "\n",
        "unit id: 692104367\n",
        "toby: speculative\n",
        "crowd: speculative\n",
        "gold: false\n",
        "     unit_id relation_type  conf_score  num_votes  percent_agreement  match\n",
        "1  692104367   speculative      0.8462          1           0.519524      0\n",
        "0  692104367      positive      0.7826          1           0.480476      0\n",
        "\n",
        "A common SNP upstream of the INSIG2 gene, [[rs7566605]] (g.-10,1025G>C, Chr2:118,552,255, NT_022135.15), was reported to be associated with [[obesity]] (Body Mass Index, [BMI]) in a genome-wide association scan using the Framingham Heart Study but has not been reproduced in other cohorts.\n",
        "\n",
        "unit id: 692104373\n",
        "toby: positive\n",
        "crowd: positive\n",
        "gold: false\n",
        "     unit_id relation_type  conf_score  num_votes  percent_agreement  match\n",
        "1  692104373      positive      1.5826          2           0.672931      0\n",
        "0  692104373         false      0.7692          1           0.327069      1\n",
        "\n"
       ]
      },
      {
       "output_type": "stream",
       "stream": "stdout",
       "text": [
        "Moreover, protective alleles for four disease-associated SNPs in the MHC locus (rs2395029, rs13199524, [[rs12198173]] and rs3093662) were strikingly over-represented among forty-five Long Term [[HIV]] controllers.\n",
        "\n",
        "unit id: 692104343\n",
        "toby: false\n",
        "crowd: positive\n",
        "gold: false\n",
        "     unit_id relation_type  conf_score  num_votes  percent_agreement  match\n",
        "1  692104343      positive      0.7826          1           0.504318      0\n",
        "0  692104343      negative      0.7692          1           0.495682      0\n",
        "\n",
        "The pharmacological profile for P2X antagonists to inhibit [[[3H]A-804598]] binding correlated with their ability to block functional activation of [[P2X7 receptors]] (r=0.95, P<0.05).\n",
        "\n",
        "unit id: 692104344\n",
        "toby: positive\n",
        "crowd: false\n",
        "gold: speculative\n",
        "     unit_id relation_type  conf_score  num_votes  percent_agreement  match\n",
        "0  692104344         false      0.8000          1           0.340165      0\n",
        "2  692104344   speculative      0.7826          1           0.332766      1\n",
        "1  692104344      positive      0.7692          1           0.327069      0\n",
        "\n"
       ]
      },
      {
       "output_type": "stream",
       "stream": "stdout",
       "text": [
        "The inhibitory effect of [[paeonol]] on ICAM-1 production might be mediated by inhibiting p38, [[ERK]] and NF-kappaB signaling pathways, which are involved in TNF-alpha-induced ICAM-1 production.\n",
        "\n",
        "unit id: 692104347\n",
        "toby: positive\n",
        "crowd: positive\n",
        "gold: speculative\n",
        "     unit_id relation_type  conf_score  num_votes  percent_agreement  match\n",
        "0  692104347      positive      1.5518          2                  1      0\n",
        "\n",
        "Taken together, [[LYR-71]] was an efficient inhibitor of IKKbeta, preventing NF-kappaB activation in macrophages, and this mechanism of action could contribute its down-regulatory effect on LPS-induced expression of [[inflammatory cytokines]] at the transcription level.\n",
        "\n",
        "unit id: 692104362\n",
        "toby: positive\n",
        "crowd: positive\n",
        "gold: false\n",
        "     unit_id relation_type  conf_score  num_votes  percent_agreement  match\n",
        "0  692104362      positive      2.3518          3                  1      0\n",
        "\n"
       ]
      },
      {
       "output_type": "stream",
       "stream": "stdout",
       "text": [
        "Lysophosphatidic acid facilitates proliferation of [[colon cancer]] cells via induction of [[Kr\ufffdppel-like factor 5]].\n",
        "\n",
        "unit id: 692175567\n",
        "toby: speculative\n",
        "crowd: speculative\n",
        "gold: false\n",
        "     unit_id relation_type  conf_score  num_votes  percent_agreement  match\n",
        "1  692175567   speculative      0.7826          1           0.504318      0\n",
        "0  692175567      negative      0.7692          1           0.495682      0\n",
        "\n",
        "Whilst FLT3/ITD+ cells are more susceptible to the cytotoxic effects of [[FLT3 inhibitors]] than wild type (WT) cells, the sensitivity of [[FLT3/TKD+]] cells to therapeutic agents is unclear, as is the importance of the mutant level.\n",
        "\n",
        "unit id: 692104351\n",
        "toby: positive\n",
        "crowd: positive\n",
        "gold: negative\n",
        "     unit_id relation_type  conf_score  num_votes  percent_agreement  match\n",
        "1  692104351      positive      1.5518          2           0.668591      0\n",
        "0  692104351      negative      0.7692          1           0.331409      1\n",
        "\n"
       ]
      },
      {
       "output_type": "stream",
       "stream": "stdout",
       "text": [
        "All three groups showed similar sensitivity to the cytotoxic effects of [[cytarabine]] but FLT3/ITD mutant level was inversely correlated with [[cytarabine]] cytotoxicity (P = 0.04) whereas [[FLT3/TKD]] mutant level had no impact.\n",
        "\n"
       ]
      }
     ],
     "prompt_number": 34
    }
   ],
   "metadata": {}
  }
 ]
}